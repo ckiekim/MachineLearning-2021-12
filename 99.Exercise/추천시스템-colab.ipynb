{
  "nbformat": 4,
  "nbformat_minor": 0,
  "metadata": {
    "colab": {
      "name": "추천시스템.ipynb",
      "provenance": [],
      "collapsed_sections": []
    },
    "kernelspec": {
      "name": "python3",
      "display_name": "Python 3"
    },
    "language_info": {
      "name": "python"
    }
  },
  "cells": [
    {
      "cell_type": "code",
      "metadata": {
        "id": "-lCgYHwlwiGC",
        "outputId": "8097ac13-d66a-4a26-abc2-164ff7735337",
        "colab": {
          "base_uri": "https://localhost:8080/"
        }
      },
      "source": [
        "!pip install scikit-surprise"
      ],
      "execution_count": 1,
      "outputs": [
        {
          "output_type": "stream",
          "name": "stdout",
          "text": [
            "Collecting scikit-surprise\n",
            "  Downloading scikit-surprise-1.1.1.tar.gz (11.8 MB)\n",
            "\u001b[K     |████████████████████████████████| 11.8 MB 4.6 MB/s \n",
            "\u001b[?25hRequirement already satisfied: joblib>=0.11 in /usr/local/lib/python3.7/dist-packages (from scikit-surprise) (1.1.0)\n",
            "Requirement already satisfied: numpy>=1.11.2 in /usr/local/lib/python3.7/dist-packages (from scikit-surprise) (1.19.5)\n",
            "Requirement already satisfied: scipy>=1.0.0 in /usr/local/lib/python3.7/dist-packages (from scikit-surprise) (1.4.1)\n",
            "Requirement already satisfied: six>=1.10.0 in /usr/local/lib/python3.7/dist-packages (from scikit-surprise) (1.15.0)\n",
            "Building wheels for collected packages: scikit-surprise\n",
            "  Building wheel for scikit-surprise (setup.py) ... \u001b[?25l\u001b[?25hdone\n",
            "  Created wheel for scikit-surprise: filename=scikit_surprise-1.1.1-cp37-cp37m-linux_x86_64.whl size=1619421 sha256=750c5020396a7165bebd94a2171bdfcf9fb07be709a4c8a74c3b6bac6aa73041\n",
            "  Stored in directory: /root/.cache/pip/wheels/76/44/74/b498c42be47b2406bd27994e16c5188e337c657025ab400c1c\n",
            "Successfully built scikit-surprise\n",
            "Installing collected packages: scikit-surprise\n",
            "Successfully installed scikit-surprise-1.1.1\n"
          ]
        }
      ]
    },
    {
      "cell_type": "code",
      "metadata": {
        "id": "hJe6pLFrwpV0"
      },
      "source": [
        "from surprise import SVD, Dataset\n",
        "from surprise.model_selection import cross_validate"
      ],
      "execution_count": 2,
      "outputs": []
    },
    {
      "cell_type": "code",
      "source": [
        "data = Dataset.load_builtin('ml-100k', prompt=False)"
      ],
      "metadata": {
        "id": "oopg-cjaamn7"
      },
      "execution_count": 4,
      "outputs": []
    },
    {
      "cell_type": "code",
      "source": [
        "data.raw_ratings[:10]"
      ],
      "metadata": {
        "colab": {
          "base_uri": "https://localhost:8080/"
        },
        "id": "oUw7WVv3azp6",
        "outputId": "c4c361af-fade-4841-ccd0-e0c37d876f5a"
      },
      "execution_count": 7,
      "outputs": [
        {
          "output_type": "execute_result",
          "data": {
            "text/plain": [
              "[('196', '242', 3.0, '881250949'),\n",
              " ('186', '302', 3.0, '891717742'),\n",
              " ('22', '377', 1.0, '878887116'),\n",
              " ('244', '51', 2.0, '880606923'),\n",
              " ('166', '346', 1.0, '886397596'),\n",
              " ('298', '474', 4.0, '884182806'),\n",
              " ('115', '265', 2.0, '881171488'),\n",
              " ('253', '465', 5.0, '891628467'),\n",
              " ('305', '451', 3.0, '886324817'),\n",
              " ('6', '86', 3.0, '883603013')]"
            ]
          },
          "metadata": {},
          "execution_count": 7
        }
      ]
    },
    {
      "cell_type": "code",
      "source": [
        "model = SVD()       # Singular Value Decomposition"
      ],
      "metadata": {
        "id": "bv2_zCo4a40q"
      },
      "execution_count": 8,
      "outputs": []
    },
    {
      "cell_type": "code",
      "source": [
        "cross_validate(model, data, measures=['rmse','mae'], cv=5, verbose=True)"
      ],
      "metadata": {
        "colab": {
          "base_uri": "https://localhost:8080/"
        },
        "id": "cy31joMPa6lJ",
        "outputId": "587db249-ffa0-4e67-dd16-dc2c231cb7c8"
      },
      "execution_count": 9,
      "outputs": [
        {
          "output_type": "stream",
          "name": "stdout",
          "text": [
            "Evaluating RMSE, MAE of algorithm SVD on 5 split(s).\n",
            "\n",
            "                  Fold 1  Fold 2  Fold 3  Fold 4  Fold 5  Mean    Std     \n",
            "RMSE (testset)    0.9348  0.9341  0.9369  0.9436  0.9290  0.9357  0.0048  \n",
            "MAE (testset)     0.7359  0.7350  0.7374  0.7450  0.7323  0.7371  0.0043  \n",
            "Fit time          4.86    4.97    4.90    4.88    4.98    4.92    0.05    \n",
            "Test time         0.28    0.17    0.27    0.16    0.26    0.23    0.05    \n"
          ]
        },
        {
          "output_type": "execute_result",
          "data": {
            "text/plain": [
              "{'fit_time': (4.8615522384643555,\n",
              "  4.971941947937012,\n",
              "  4.899038314819336,\n",
              "  4.876251459121704,\n",
              "  4.984079837799072),\n",
              " 'test_mae': array([0.73592382, 0.73504609, 0.73738253, 0.74502672, 0.73225574]),\n",
              " 'test_rmse': array([0.93483677, 0.93406044, 0.9368528 , 0.94363531, 0.92895857]),\n",
              " 'test_time': (0.2834916114807129,\n",
              "  0.17489266395568848,\n",
              "  0.26822710037231445,\n",
              "  0.16018438339233398,\n",
              "  0.2553684711456299)}"
            ]
          },
          "metadata": {},
          "execution_count": 9
        }
      ]
    },
    {
      "cell_type": "markdown",
      "source": [
        "### 컨텐츠 기반 필터링(Contents-based Filtering)\n",
        "- 이전의 행동과 명시적 피드백을 통해 좋아하는 것과 유사한 항목을 추천\n",
        "    *   내가 지금까지 시청한 영화 목록과 다른 사용자의 시청 목록을 비교해 나와 비슷한 취향의 사용자가 시청한 영화를 추천\n",
        "\n",
        "- 유사도를 기반으로 추천\n",
        "- 장점\n",
        "\n",
        "    *   많은 수의 사용자를 대상으로 쉽게 확장 가능\n",
        "    *   사용자가 관심을 갖지 않던 상품 추천 가능\n",
        "\n",
        "- 단점\n",
        "\n",
        "    *   입력 특성을 직접 설계해야 하기 때문에 많은 도메인 지식이 필요\n",
        "    *   사용자의 기존 관심사항을 기반으로만 추천 가능\n",
        "\n"
      ],
      "metadata": {
        "id": "RWNjQZ5lb6K4"
      }
    },
    {
      "cell_type": "code",
      "source": [
        "import numpy as np"
      ],
      "metadata": {
        "id": "ZXjngySuborL"
      },
      "execution_count": 10,
      "outputs": []
    },
    {
      "cell_type": "code",
      "source": [
        "raw_data = np.array(data.raw_ratings, dtype=int)\n",
        "raw_data[:, 0] -= 1\n",
        "raw_data[:, 1] -= 1"
      ],
      "metadata": {
        "id": "GB5ssMiUdiD7"
      },
      "execution_count": 11,
      "outputs": []
    },
    {
      "cell_type": "code",
      "source": [
        "n_users = np.max(raw_data[:,0]) + 1\n",
        "n_movies = np.max(raw_data[:,1]) + 1\n",
        "shape = (n_users, n_movies)\n",
        "shape"
      ],
      "metadata": {
        "colab": {
          "base_uri": "https://localhost:8080/"
        },
        "id": "TbUW9I8ld4ru",
        "outputId": "77f0cc0b-495c-4f79-e009-7c021862d418"
      },
      "execution_count": 15,
      "outputs": [
        {
          "output_type": "execute_result",
          "data": {
            "text/plain": [
              "(943, 1682)"
            ]
          },
          "metadata": {},
          "execution_count": 15
        }
      ]
    },
    {
      "cell_type": "code",
      "source": [
        "adj_matrix = np.ndarray(shape, dtype=int)\n",
        "for user_id, movie_id, _, _ in raw_data:\n",
        "    adj_matrix[user_id, movie_id] = 1.\n",
        "adj_matrix[:3]"
      ],
      "metadata": {
        "colab": {
          "base_uri": "https://localhost:8080/"
        },
        "id": "JDmz15zUeK6q",
        "outputId": "a270a350-9f69-4143-a3fe-86d093b57192"
      },
      "execution_count": 17,
      "outputs": [
        {
          "output_type": "execute_result",
          "data": {
            "text/plain": [
              "array([[1, 1, 1, ..., 0, 0, 0],\n",
              "       [1, 0, 0, ..., 0, 0, 0],\n",
              "       [0, 0, 0, ..., 0, 0, 0]])"
            ]
          },
          "metadata": {},
          "execution_count": 17
        }
      ]
    },
    {
      "cell_type": "code",
      "source": [
        "my_id, my_vector = 0, adj_matrix[0]\n",
        "best_match, best_match_id, best_match_vector = -1, -1, []\n",
        "\n",
        "for user_id, user_vector in enumerate(adj_matrix):\n",
        "    if my_id != user_id:\n",
        "        similarity = np.dot(my_vector, user_vector)\n",
        "        if similarity > best_match:\n",
        "            best_match = similarity\n",
        "            best_match_id = user_id\n",
        "            best_match_vector = user_vector\n",
        "\n",
        "print(f'Best match: {best_match}, Best match ID: {best_match_id}')"
      ],
      "metadata": {
        "colab": {
          "base_uri": "https://localhost:8080/"
        },
        "id": "W8GftU6rfOV3",
        "outputId": "eaff556c-1fd0-47a4-c723-b1e4c4b01808"
      },
      "execution_count": 18,
      "outputs": [
        {
          "output_type": "stream",
          "name": "stdout",
          "text": [
            "Best match: 183, Best match ID: 275\n"
          ]
        }
      ]
    },
    {
      "cell_type": "code",
      "source": [
        "recommend_list = []\n",
        "for i, log in enumerate(zip(my_vector, best_match_vector)):\n",
        "    log1, log2 = log\n",
        "    if log1 < 1. and log2 > 0.:\n",
        "        recommend_list.append(i)\n",
        "\n",
        "print(recommend_list)"
      ],
      "metadata": {
        "colab": {
          "base_uri": "https://localhost:8080/"
        },
        "id": "QwOiG6DUgg5M",
        "outputId": "5aeb075e-4067-42cd-80fc-42fbdabd60e1"
      },
      "execution_count": 19,
      "outputs": [
        {
          "output_type": "stream",
          "name": "stdout",
          "text": [
            "[272, 273, 275, 280, 281, 283, 287, 288, 289, 290, 292, 293, 297, 299, 300, 301, 302, 306, 312, 314, 315, 316, 317, 321, 322, 323, 324, 327, 330, 331, 332, 333, 339, 342, 345, 346, 353, 354, 355, 356, 357, 363, 364, 365, 366, 372, 374, 378, 379, 381, 382, 383, 384, 385, 386, 387, 390, 391, 392, 394, 395, 396, 398, 400, 401, 402, 403, 404, 405, 406, 407, 408, 409, 410, 412, 414, 416, 417, 418, 419, 420, 422, 424, 425, 426, 427, 428, 430, 431, 432, 435, 442, 446, 447, 448, 449, 450, 451, 452, 454, 455, 457, 460, 461, 462, 468, 469, 470, 471, 472, 473, 474, 478, 495, 500, 507, 517, 522, 525, 530, 539, 540, 543, 545, 546, 548, 549, 550, 551, 553, 557, 558, 560, 561, 562, 563, 565, 566, 567, 568, 570, 571, 574, 575, 576, 577, 580, 581, 582, 585, 587, 589, 590, 594, 596, 602, 623, 626, 627, 630, 633, 635, 639, 646, 648, 651, 652, 654, 657, 664, 668, 671, 677, 678, 681, 683, 684, 685, 690, 691, 692, 695, 696, 708, 709, 714, 718, 719, 720, 724, 726, 727, 731, 733, 734, 736, 738, 741, 742, 745, 746, 747, 749, 750, 754, 758, 762, 764, 767, 768, 769, 770, 771, 772, 773, 778, 779, 782, 785, 788, 789, 793, 795, 796, 799, 800, 801, 802, 805, 806, 808, 815, 819, 822, 824, 830, 839, 842, 843, 844, 852, 853, 870, 875, 878, 880, 889, 901, 914, 915, 918, 921, 927, 929, 930, 938, 940, 941, 942, 948, 950, 958, 968, 973, 974, 976, 992, 999, 1005, 1009, 1010, 1012, 1015, 1018, 1027, 1030, 1034, 1035, 1041, 1043, 1045, 1046, 1051, 1055, 1072, 1073, 1078, 1080, 1082, 1088, 1089, 1090, 1094, 1097, 1108, 1109, 1117, 1128, 1130, 1134, 1139, 1140, 1144, 1156, 1169, 1171, 1179, 1193, 1198, 1207, 1209, 1212, 1217, 1219, 1220, 1227, 1231, 1238, 1239, 1243, 1244, 1252, 1266, 1272, 1273, 1300, 1313, 1406, 1412, 1415, 1470, 1477, 1480, 1481, 1482]\n"
          ]
        }
      ]
    },
    {
      "cell_type": "markdown",
      "source": [
        "- 유클리드 거리를 사용해 추천"
      ],
      "metadata": {
        "id": "iPxKcHRGiFiu"
      }
    },
    {
      "cell_type": "code",
      "source": [
        "my_id, my_vector = 0, adj_matrix[0]\n",
        "best_match, best_match_id, best_match_vector = 9999, -1, []\n",
        "\n",
        "for user_id, user_vector in enumerate(adj_matrix):\n",
        "    if my_id != user_id:\n",
        "        euclidean_dist = np.sqrt(np.sum(np.square(my_vector - user_vector)))\n",
        "        if euclidean_dist < best_match:\n",
        "            best_match = euclidean_dist\n",
        "            best_match_id = user_id\n",
        "            best_match_vector = user_vector\n",
        "\n",
        "print(f'Best match: {best_match:.4f}, Best match ID: {best_match_id}')"
      ],
      "metadata": {
        "colab": {
          "base_uri": "https://localhost:8080/"
        },
        "id": "ZWDjPIXEh9wV",
        "outputId": "1c934b68-a5f0-49c6-a180-bc735446a0cb"
      },
      "execution_count": 21,
      "outputs": [
        {
          "output_type": "stream",
          "name": "stdout",
          "text": [
            "Best match: 14.8324, Best match ID: 737\n"
          ]
        }
      ]
    },
    {
      "cell_type": "code",
      "source": [
        "recommend_list = []\n",
        "for i, log in enumerate(zip(my_vector, best_match_vector)):\n",
        "    log1, log2 = log\n",
        "    if log1 < 1. and log2 > 0.:\n",
        "        recommend_list.append(i)\n",
        "\n",
        "print(recommend_list)"
      ],
      "metadata": {
        "colab": {
          "base_uri": "https://localhost:8080/"
        },
        "id": "Ic1DKNq_i2-g",
        "outputId": "ad5cfe74-b82a-472d-e2ee-a7f5c205e28f"
      },
      "execution_count": 22,
      "outputs": [
        {
          "output_type": "stream",
          "name": "stdout",
          "text": [
            "[297, 312, 317, 342, 356, 366, 379, 384, 392, 402, 404, 407, 417, 422, 428, 433, 448, 454, 469, 473, 495, 510, 516, 526, 527, 549, 567, 602, 635, 649, 650, 654, 658, 661, 664, 696, 731, 746, 750, 754, 915, 918, 925, 929, 950, 968, 1015, 1046]\n"
          ]
        }
      ]
    },
    {
      "cell_type": "markdown",
      "source": [
        "- Cosine 유사도를 사용해 추천"
      ],
      "metadata": {
        "id": "wNhxxVmcjQVE"
      }
    },
    {
      "cell_type": "code",
      "source": [
        "def cos_similarity(v1, v2):\n",
        "    norm1 = np.sqrt(np.sum(np.square(v1)))\n",
        "    norm2 = np.sqrt(np.sum(np.square(v2)))\n",
        "    return np.dot(v1, v2) / (norm1 * norm2)"
      ],
      "metadata": {
        "id": "5eXt0z31jJLC"
      },
      "execution_count": 23,
      "outputs": []
    },
    {
      "cell_type": "code",
      "source": [
        "my_id, my_vector = 0, adj_matrix[0]\n",
        "best_match, best_match_id, best_match_vector = -1, -1, []\n",
        "\n",
        "for user_id, user_vector in enumerate(adj_matrix):\n",
        "    if my_id != user_id:\n",
        "        cos_sim = cos_similarity(my_vector, user_vector)\n",
        "        if cos_sim > best_match:\n",
        "            best_match = cos_sim\n",
        "            best_match_id = user_id\n",
        "            best_match_vector = user_vector\n",
        "\n",
        "print(f'Best match: {best_match:.4f}, Best match ID: {best_match_id}')"
      ],
      "metadata": {
        "colab": {
          "base_uri": "https://localhost:8080/"
        },
        "id": "2cfqnAwAjqu_",
        "outputId": "4471d720-4ef8-43f4-a693-ee25c5c8638a"
      },
      "execution_count": 28,
      "outputs": [
        {
          "output_type": "stream",
          "name": "stdout",
          "text": [
            "Best match: 0.5691, Best match ID: 915\n"
          ]
        }
      ]
    },
    {
      "cell_type": "code",
      "source": [
        "recommend_list = []\n",
        "for i, log in enumerate(zip(my_vector, best_match_vector)):\n",
        "    log1, log2 = log\n",
        "    if log1 < 1. and log2 > 0.:\n",
        "        recommend_list.append(i)\n",
        "\n",
        "print(recommend_list)"
      ],
      "metadata": {
        "colab": {
          "base_uri": "https://localhost:8080/"
        },
        "id": "zArzhKMClaxA",
        "outputId": "48e027ab-a6b0-42bb-8fe9-02c5703b5876"
      },
      "execution_count": 29,
      "outputs": [
        {
          "output_type": "stream",
          "name": "stdout",
          "text": [
            "[272, 275, 279, 280, 283, 285, 289, 294, 297, 316, 317, 355, 365, 366, 368, 379, 380, 381, 384, 386, 392, 398, 401, 404, 416, 420, 422, 424, 426, 427, 430, 432, 450, 460, 461, 466, 469, 471, 473, 474, 475, 479, 482, 483, 497, 505, 508, 510, 511, 522, 526, 527, 529, 530, 534, 536, 540, 545, 548, 549, 556, 557, 558, 560, 565, 567, 568, 569, 577, 580, 581, 582, 592, 596, 630, 635, 639, 641, 649, 651, 654, 673, 677, 678, 683, 684, 692, 696, 701, 703, 707, 708, 709, 712, 714, 719, 720, 726, 731, 734, 736, 738, 740, 745, 747, 754, 755, 761, 762, 763, 766, 780, 789, 791, 805, 819, 823, 824, 830, 843, 862, 865, 918, 929, 930, 938, 942, 943, 947, 958, 959, 960, 970, 977, 1004, 1008, 1009, 1010, 1013, 1041, 1045, 1069, 1072, 1073, 1078, 1097, 1100, 1108, 1112, 1118, 1134, 1193, 1205, 1207, 1216, 1219, 1267, 1334, 1400, 1427, 1596, 1681]\n"
          ]
        }
      ]
    },
    {
      "cell_type": "markdown",
      "source": [
        "- 기존 방법에 명시적 피드백(사용자가 평가한 영화 점수)을 추가해 실험"
      ],
      "metadata": {
        "id": "AJmEyfaokN-5"
      }
    },
    {
      "cell_type": "code",
      "source": [
        "adj_matrix = np.ndarray(shape, dtype=int)\n",
        "for user_id, movie_id, rating, _ in raw_data:\n",
        "    adj_matrix[user_id, movie_id] = rating\n",
        "adj_matrix[:3]"
      ],
      "metadata": {
        "colab": {
          "base_uri": "https://localhost:8080/"
        },
        "id": "4gXCPZokkHQ1",
        "outputId": "aa6e53cd-f7cb-46e1-f8f5-5d85ccaa0f43"
      },
      "execution_count": 26,
      "outputs": [
        {
          "output_type": "execute_result",
          "data": {
            "text/plain": [
              "array([[5, 3, 4, ..., 0, 0, 0],\n",
              "       [4, 0, 0, ..., 0, 0, 0],\n",
              "       [0, 0, 0, ..., 0, 0, 0]])"
            ]
          },
          "metadata": {},
          "execution_count": 26
        }
      ]
    },
    {
      "cell_type": "code",
      "source": [
        "my_id, my_vector = 0, adj_matrix[0]\n",
        "best_match, best_match_id, best_match_vector = 9999, -1, []\n",
        "\n",
        "for user_id, user_vector in enumerate(adj_matrix):\n",
        "    if my_id != user_id:\n",
        "        euclidean_dist = np.sqrt(np.sum(np.square(my_vector - user_vector)))\n",
        "        if euclidean_dist < best_match:\n",
        "            best_match = euclidean_dist\n",
        "            best_match_id = user_id\n",
        "            best_match_vector = user_vector\n",
        "\n",
        "print(f'Best match: {best_match:.4f}, Best match ID: {best_match_id}')"
      ],
      "metadata": {
        "colab": {
          "base_uri": "https://localhost:8080/"
        },
        "id": "0XJH8NBSkvIs",
        "outputId": "1e74442d-d670-4755-daae-64028671607d"
      },
      "execution_count": 27,
      "outputs": [
        {
          "output_type": "stream",
          "name": "stdout",
          "text": [
            "Best match: 55.0636, Best match ID: 737\n"
          ]
        }
      ]
    },
    {
      "cell_type": "code",
      "source": [
        "my_id, my_vector = 0, adj_matrix[0]\n",
        "best_match, best_match_id, best_match_vector = -1, -1, []\n",
        "\n",
        "for user_id, user_vector in enumerate(adj_matrix):\n",
        "    if my_id != user_id:\n",
        "        cos_sim = cos_similarity(my_vector, user_vector)\n",
        "        if cos_sim > best_match:\n",
        "            best_match = cos_sim\n",
        "            best_match_id = user_id\n",
        "            best_match_vector = user_vector\n",
        "\n",
        "print(f'Best match: {best_match:.4f}, Best match ID: {best_match_id}')"
      ],
      "metadata": {
        "colab": {
          "base_uri": "https://localhost:8080/"
        },
        "id": "8ktbnaAglOkb",
        "outputId": "5f6bd2e1-068d-4f83-e106-bd1eb526a5be"
      },
      "execution_count": 30,
      "outputs": [
        {
          "output_type": "stream",
          "name": "stdout",
          "text": [
            "Best match: 0.5691, Best match ID: 915\n"
          ]
        }
      ]
    },
    {
      "cell_type": "markdown",
      "source": [
        "### 협업 필터링(Collaborative Filtering)\n",
        "- 사용자와 항목의 유사성을 동시에 고려해 추천\n",
        "- 기존에 내 관심사가 아닌 항목이라도 추천 가능\n",
        "- 자동으로 임베딩 학습 가능\n",
        "- 장점\n",
        "    *   자동으로 임베딩을 학습하기 때문에 도메인 지식이 필요 없음\n",
        "    *   기존의 관심사가 아니더라도 추천 가능\n",
        "\n",
        "- 단점\n",
        "    *   학습과정에 나오지 않은 항목은 임베딩을 만들 수 없음\n",
        "    *   추가 특성을 사용하기 어려움\n",
        "\n"
      ],
      "metadata": {
        "id": "kwPtQpCNlyGC"
      }
    },
    {
      "cell_type": "code",
      "source": [
        "from surprise import KNNBasic, SVD, SVDpp, NMF"
      ],
      "metadata": {
        "id": "6lfT8ncelmfL"
      },
      "execution_count": 31,
      "outputs": []
    },
    {
      "cell_type": "code",
      "source": [
        "data = Dataset.load_builtin('ml-100k', prompt=False)"
      ],
      "metadata": {
        "id": "dCVNAFuom1BX"
      },
      "execution_count": 32,
      "outputs": []
    },
    {
      "cell_type": "markdown",
      "source": [
        "- KNN을 사용한 협업 필터링"
      ],
      "metadata": {
        "id": "sEatrQjim-dt"
      }
    },
    {
      "cell_type": "code",
      "source": [
        "model = KNNBasic()\n",
        "cross_validate(model, data, measures=['rmse','mae'], cv=5, verbose=True, n_jobs=-1)"
      ],
      "metadata": {
        "colab": {
          "base_uri": "https://localhost:8080/"
        },
        "id": "6ROgxPbtm9A9",
        "outputId": "50babc39-d576-4eb6-d67e-095fbc28435a"
      },
      "execution_count": 33,
      "outputs": [
        {
          "output_type": "stream",
          "name": "stdout",
          "text": [
            "Evaluating RMSE, MAE of algorithm KNNBasic on 5 split(s).\n",
            "\n",
            "                  Fold 1  Fold 2  Fold 3  Fold 4  Fold 5  Mean    Std     \n",
            "RMSE (testset)    0.9800  0.9797  0.9762  0.9787  0.9832  0.9795  0.0023  \n",
            "MAE (testset)     0.7726  0.7742  0.7703  0.7764  0.7752  0.7738  0.0021  \n",
            "Fit time          0.44    0.59    0.76    0.54    0.46    0.56    0.11    \n",
            "Test time         7.05    7.65    8.06    6.60    3.82    6.64    1.49    \n"
          ]
        },
        {
          "output_type": "execute_result",
          "data": {
            "text/plain": [
              "{'fit_time': (0.4386742115020752,\n",
              "  0.5883979797363281,\n",
              "  0.7593333721160889,\n",
              "  0.5438756942749023,\n",
              "  0.46398329734802246),\n",
              " 'test_mae': array([0.77261384, 0.77423153, 0.77030587, 0.77637327, 0.77523267]),\n",
              " 'test_rmse': array([0.98000128, 0.97969146, 0.97618095, 0.97865275, 0.98317495]),\n",
              " 'test_time': (7.050502777099609,\n",
              "  7.653592109680176,\n",
              "  8.056213617324829,\n",
              "  6.601367950439453,\n",
              "  3.8239586353302)}"
            ]
          },
          "metadata": {},
          "execution_count": 33
        }
      ]
    },
    {
      "cell_type": "markdown",
      "source": [
        "- SVD를 사용한 협업 필터링"
      ],
      "metadata": {
        "id": "E7Mr5uNandDU"
      }
    },
    {
      "cell_type": "code",
      "source": [
        "model = SVD()\n",
        "cross_validate(model, data, measures=['rmse','mae'], cv=5, verbose=True, n_jobs=-1)"
      ],
      "metadata": {
        "colab": {
          "base_uri": "https://localhost:8080/"
        },
        "id": "n7DOUD2FnSuC",
        "outputId": "7ae42a8d-ab7c-4ac3-bd6c-f89fa3ce7c6a"
      },
      "execution_count": 34,
      "outputs": [
        {
          "output_type": "stream",
          "name": "stdout",
          "text": [
            "Evaluating RMSE, MAE of algorithm SVD on 5 split(s).\n",
            "\n",
            "                  Fold 1  Fold 2  Fold 3  Fold 4  Fold 5  Mean    Std     \n",
            "RMSE (testset)    0.9357  0.9411  0.9296  0.9343  0.9386  0.9358  0.0039  \n",
            "MAE (testset)     0.7392  0.7392  0.7319  0.7386  0.7384  0.7375  0.0028  \n",
            "Fit time          9.60    11.40   10.92   9.81    6.05    9.55    1.88    \n",
            "Test time         0.28    0.47    0.28    0.28    0.17    0.30    0.09    \n"
          ]
        },
        {
          "output_type": "execute_result",
          "data": {
            "text/plain": [
              "{'fit_time': (9.600859642028809,\n",
              "  11.399492740631104,\n",
              "  10.917721271514893,\n",
              "  9.808423519134521,\n",
              "  6.045348405838013),\n",
              " 'test_mae': array([0.73922017, 0.73917761, 0.73190594, 0.73862617, 0.73838514]),\n",
              " 'test_rmse': array([0.93570542, 0.94106488, 0.929596  , 0.93425397, 0.93857106]),\n",
              " 'test_time': (0.2796800136566162,\n",
              "  0.46613192558288574,\n",
              "  0.27910518646240234,\n",
              "  0.27753233909606934,\n",
              "  0.17382359504699707)}"
            ]
          },
          "metadata": {},
          "execution_count": 34
        }
      ]
    },
    {
      "cell_type": "markdown",
      "source": [
        "- NMF를 사용한 협업 필터링"
      ],
      "metadata": {
        "id": "ruNgS5arndjw"
      }
    },
    {
      "cell_type": "code",
      "source": [
        "model = NMF()\n",
        "cross_validate(model, data, measures=['rmse','mae'], cv=5, verbose=True, n_jobs=-1)"
      ],
      "metadata": {
        "colab": {
          "base_uri": "https://localhost:8080/"
        },
        "id": "OeDoH6Ynnbrb",
        "outputId": "7605d83a-684f-4f34-f803-ce39f68ac154"
      },
      "execution_count": 35,
      "outputs": [
        {
          "output_type": "stream",
          "name": "stdout",
          "text": [
            "Evaluating RMSE, MAE of algorithm NMF on 5 split(s).\n",
            "\n",
            "                  Fold 1  Fold 2  Fold 3  Fold 4  Fold 5  Mean    Std     \n",
            "RMSE (testset)    0.9635  0.9584  0.9600  0.9639  0.9617  0.9615  0.0021  \n",
            "MAE (testset)     0.7566  0.7541  0.7540  0.7582  0.7577  0.7561  0.0018  \n",
            "Fit time          9.91    11.66   11.54   9.94    5.80    9.77    2.12    \n",
            "Test time         0.23    0.28    0.24    0.26    0.14    0.23    0.05    \n"
          ]
        },
        {
          "output_type": "execute_result",
          "data": {
            "text/plain": [
              "{'fit_time': (9.909843921661377,\n",
              "  11.661888360977173,\n",
              "  11.536036252975464,\n",
              "  9.936559438705444,\n",
              "  5.795465707778931),\n",
              " 'test_mae': array([0.75661459, 0.75410728, 0.75398331, 0.75815653, 0.7576732 ]),\n",
              " 'test_rmse': array([0.96350435, 0.95838918, 0.95996249, 0.96391066, 0.96173705]),\n",
              " 'test_time': (0.23318195343017578,\n",
              "  0.2808096408843994,\n",
              "  0.24248576164245605,\n",
              "  0.25680065155029297,\n",
              "  0.14276790618896484)}"
            ]
          },
          "metadata": {},
          "execution_count": 35
        }
      ]
    },
    {
      "cell_type": "markdown",
      "source": [
        "- SVD++를 사용한 협업 필터링"
      ],
      "metadata": {
        "id": "p32KgzlWnd-m"
      }
    },
    {
      "cell_type": "code",
      "source": [
        "model = SVDpp()\n",
        "cross_validate(model, data, measures=['rmse','mae'], cv=5, verbose=True, n_jobs=-1)"
      ],
      "metadata": {
        "colab": {
          "base_uri": "https://localhost:8080/"
        },
        "id": "m3S6stojncZ-",
        "outputId": "287f2244-6aa1-449e-b5c9-76e5a86e990d"
      },
      "execution_count": 36,
      "outputs": [
        {
          "output_type": "stream",
          "name": "stdout",
          "text": [
            "Evaluating RMSE, MAE of algorithm SVDpp on 5 split(s).\n",
            "\n",
            "                  Fold 1  Fold 2  Fold 3  Fold 4  Fold 5  Mean    Std     \n",
            "RMSE (testset)    0.9186  0.9192  0.9085  0.9234  0.9217  0.9183  0.0052  \n",
            "MAE (testset)     0.7202  0.7207  0.7124  0.7227  0.7250  0.7202  0.0042  \n",
            "Fit time          319.07  322.21  317.27  320.70  165.04  288.86  61.93   \n",
            "Test time         6.00    7.82    6.10    6.17    3.17    5.85    1.50    \n"
          ]
        },
        {
          "output_type": "execute_result",
          "data": {
            "text/plain": [
              "{'fit_time': (319.06866455078125,\n",
              "  322.21330070495605,\n",
              "  317.27006101608276,\n",
              "  320.6989974975586,\n",
              "  165.03698921203613),\n",
              " 'test_mae': array([0.72018084, 0.72074389, 0.71244714, 0.72273544, 0.72495623]),\n",
              " 'test_rmse': array([0.91858513, 0.91922002, 0.90853413, 0.92342253, 0.92174196]),\n",
              " 'test_time': (5.9994447231292725,\n",
              "  7.817309617996216,\n",
              "  6.0964813232421875,\n",
              "  6.167213678359985,\n",
              "  3.170262336730957)}"
            ]
          },
          "metadata": {},
          "execution_count": 36
        }
      ]
    },
    {
      "cell_type": "markdown",
      "source": [
        "### 하이브리드\n",
        "- 컨텐츠 기반 필터링과 협업 필터링을 조합한 방식\n",
        "- 많은 하이브리드 방식이 존재\n",
        "- 실습에서는 협업 필터링으로 임베딩을 학습하고 컨텐츠 기반 필터링으로 유사도 기반 추천을 수행하는 추천 엔진 개발"
      ],
      "metadata": {
        "id": "lD_Hu9_Qouu0"
      }
    },
    {
      "cell_type": "code",
      "source": [
        "from sklearn.decomposition import randomized_svd, non_negative_factorization"
      ],
      "metadata": {
        "id": "eNstNlxnn7dp"
      },
      "execution_count": 37,
      "outputs": []
    },
    {
      "cell_type": "code",
      "source": [
        "data = Dataset.load_builtin('ml-100k', prompt=False)\n",
        "raw_data = np.array(data.raw_ratings, dtype=int)\n",
        "raw_data[:,0] -= 1\n",
        "raw_data[:,1] -= 1"
      ],
      "metadata": {
        "id": "RBmyZmzJrCAs"
      },
      "execution_count": 41,
      "outputs": []
    },
    {
      "cell_type": "code",
      "source": [
        "n_users = np.max(raw_data[:,0]) + 1\n",
        "n_movies = np.max(raw_data[:,1]) + 1\n",
        "shape = (n_users, n_movies)\n",
        "shape"
      ],
      "metadata": {
        "colab": {
          "base_uri": "https://localhost:8080/"
        },
        "id": "QzdQhJCdsJj_",
        "outputId": "5b5ff840-f64b-4e32-9e4b-b2fcb7d946b9"
      },
      "execution_count": 42,
      "outputs": [
        {
          "output_type": "execute_result",
          "data": {
            "text/plain": [
              "(943, 1682)"
            ]
          },
          "metadata": {},
          "execution_count": 42
        }
      ]
    },
    {
      "cell_type": "code",
      "source": [
        "adj_matrix = np.ndarray(shape, dtype=int)\n",
        "for user_id, movie_id, rating, _ in raw_data:\n",
        "    adj_matrix[user_id, movie_id] = rating\n",
        "adj_matrix[:3]"
      ],
      "metadata": {
        "colab": {
          "base_uri": "https://localhost:8080/"
        },
        "id": "1HGIniP7siO3",
        "outputId": "fb2d52d2-e5c1-4110-a759-0b1f30960b55"
      },
      "execution_count": 43,
      "outputs": [
        {
          "output_type": "execute_result",
          "data": {
            "text/plain": [
              "array([[5, 3, 4, ..., 0, 0, 0],\n",
              "       [4, 0, 0, ..., 0, 0, 0],\n",
              "       [0, 0, 0, ..., 0, 0, 0]])"
            ]
          },
          "metadata": {},
          "execution_count": 43
        }
      ]
    },
    {
      "cell_type": "code",
      "source": [
        "U, S, V = randomized_svd(adj_matrix, n_components=2, random_state=2022)\n",
        "S = np.diag(S)\n",
        "U.shape, S.shape, V.shape"
      ],
      "metadata": {
        "colab": {
          "base_uri": "https://localhost:8080/"
        },
        "id": "86XO6i87tM6t",
        "outputId": "2cf8892a-18db-43d0-d6d4-63ae1ac02707"
      },
      "execution_count": 45,
      "outputs": [
        {
          "output_type": "execute_result",
          "data": {
            "text/plain": [
              "((943, 2), (2, 2), (2, 1682))"
            ]
          },
          "metadata": {},
          "execution_count": 45
        }
      ]
    },
    {
      "cell_type": "code",
      "source": [
        "np.matmul(np.matmul(U,S), V)"
      ],
      "metadata": {
        "colab": {
          "base_uri": "https://localhost:8080/"
        },
        "id": "kbwfaMPwuRve",
        "outputId": "b2e1960a-75cc-440e-8267-199fab7213ea"
      },
      "execution_count": 46,
      "outputs": [
        {
          "output_type": "execute_result",
          "data": {
            "text/plain": [
              "array([[ 3.91732681e+00,  1.47276647e+00,  7.98262097e-01, ...,\n",
              "         6.24908131e-04,  1.41100873e-02,  1.36545892e-02],\n",
              "       [ 1.85777220e+00,  3.96191003e-01,  5.05705346e-01, ...,\n",
              "         5.38862953e-03,  1.77236113e-03,  5.26953921e-04],\n",
              "       [ 8.94989110e-01,  1.71578372e-01,  2.51738344e-01, ...,\n",
              "         2.92094718e-03,  5.39927727e-04, -1.25740674e-04],\n",
              "       ...,\n",
              "       [ 9.92051598e-01,  2.10814839e-01,  2.70363048e-01, ...,\n",
              "         2.89019118e-03,  9.34212690e-04,  2.66605341e-04],\n",
              "       [ 1.30425376e+00,  5.27669950e-01,  2.50080149e-01, ...,\n",
              "        -4.20679042e-04,  5.30526027e-03,  5.28070254e-03],\n",
              "       [ 2.82999393e+00,  9.70812205e-01,  6.15871593e-01, ...,\n",
              "         2.02091472e-03,  8.67740394e-03,  8.03107566e-03]])"
            ]
          },
          "metadata": {},
          "execution_count": 46
        }
      ]
    },
    {
      "cell_type": "markdown",
      "source": [
        "- 사용자 기반 추천\n",
        "- 나와 비슷한 취향을 가진 다른 사용자의 행동을 추천\n",
        "- 사용자 특징 벡터의 유사도 사용"
      ],
      "metadata": {
        "id": "kyalMWRYu1Jg"
      }
    },
    {
      "cell_type": "code",
      "source": [
        "my_id, my_vector = 0, U[0]\n",
        "best_match, best_match_id, best_match_vector = -1, -1, []\n",
        "\n",
        "for user_id, user_vector in enumerate(U):\n",
        "    if my_id != user_id:\n",
        "        cos_sim = cos_similarity(my_vector, user_vector)\n",
        "        if cos_sim > best_match:\n",
        "            best_match = cos_sim\n",
        "            best_match_id = user_id\n",
        "            best_match_vector = user_vector\n",
        "\n",
        "print(f'Best match: {best_match:.4f}, Best match ID: {best_match_id}')"
      ],
      "metadata": {
        "colab": {
          "base_uri": "https://localhost:8080/"
        },
        "id": "xzY78PeaupOF",
        "outputId": "9a584fdd-b610-4894-9330-b1b460a717ad"
      },
      "execution_count": 47,
      "outputs": [
        {
          "output_type": "stream",
          "name": "stdout",
          "text": [
            "Best match: 1.0000, Best match ID: 235\n"
          ]
        }
      ]
    },
    {
      "cell_type": "code",
      "source": [
        "recommend_list = []\n",
        "for i, log in enumerate(zip(adj_matrix[my_id], adj_matrix[best_match_id])):\n",
        "    log1, log2 = log\n",
        "    if log1 < 1. and log2 > 0.:\n",
        "        recommend_list.append(i)\n",
        "\n",
        "print(recommend_list)"
      ],
      "metadata": {
        "colab": {
          "base_uri": "https://localhost:8080/"
        },
        "id": "lj9alEGyvesw",
        "outputId": "488a9434-f23e-491e-a5f6-00cae4a6d92f"
      },
      "execution_count": 49,
      "outputs": [
        {
          "output_type": "stream",
          "name": "stdout",
          "text": [
            "[272, 273, 274, 281, 285, 288, 293, 297, 303, 306, 312, 317, 327, 332, 369, 410, 418, 419, 422, 426, 428, 431, 434, 442, 461, 475, 477, 482, 495, 503, 504, 505, 506, 509, 519, 520, 522, 525, 531, 545, 548, 590, 594, 595, 613, 631, 654, 658, 660, 672, 684, 685, 691, 695, 698, 704, 716, 728, 734, 749, 755, 863, 865, 933, 1012, 1038, 1101, 1327, 1400]\n"
          ]
        }
      ]
    },
    {
      "cell_type": "markdown",
      "source": [
        "- 항목 기반 추천\n",
        "- 내가 본 항목과 비슷한 항목을 추천\n",
        "- 항목 특징 벡터의 유사도 사용"
      ],
      "metadata": {
        "id": "qW9pr_ucwLUc"
      }
    },
    {
      "cell_type": "code",
      "source": [
        "my_id, my_vector = 0, V.T[0]\n",
        "best_match, best_match_id, best_match_vector = -1, -1, []\n",
        "\n",
        "for user_id, user_vector in enumerate(V.T):\n",
        "    if my_id != user_id:\n",
        "        cos_sim = cos_similarity(my_vector, user_vector)\n",
        "        if cos_sim > best_match:\n",
        "            best_match = cos_sim\n",
        "            best_match_id = user_id\n",
        "            best_match_vector = user_vector\n",
        "\n",
        "print(f'Best match: {best_match:.4f}, Best match ID: {best_match_id}')"
      ],
      "metadata": {
        "colab": {
          "base_uri": "https://localhost:8080/"
        },
        "id": "QNyOTBaKvzQj",
        "outputId": "9ed5bdc2-4398-48dc-8a3e-26ff4e342382"
      },
      "execution_count": 58,
      "outputs": [
        {
          "output_type": "stream",
          "name": "stdout",
          "text": [
            "Best match: 1.0000, Best match ID: 1287\n"
          ]
        }
      ]
    },
    {
      "cell_type": "code",
      "source": [
        "recommend_list = []\n",
        "for i, user_vector in enumerate(adj_matrix):\n",
        "    if adj_matrix[i, my_id] > 0.9:\n",
        "        recommend_list.append(i)\n",
        "\n",
        "print(recommend_list)"
      ],
      "metadata": {
        "colab": {
          "base_uri": "https://localhost:8080/"
        },
        "id": "O9F8HBsAwpiz",
        "outputId": "1821b46d-f7b9-4cb2-d3d2-674600031018"
      },
      "execution_count": 59,
      "outputs": [
        {
          "output_type": "stream",
          "name": "stdout",
          "text": [
            "[0, 1, 4, 5, 9, 12, 14, 15, 16, 17, 19, 20, 22, 24, 25, 37, 40, 41, 42, 43, 44, 48, 53, 55, 56, 57, 58, 61, 62, 63, 64, 65, 66, 69, 71, 72, 74, 76, 78, 80, 81, 82, 83, 88, 91, 92, 93, 94, 95, 96, 98, 100, 101, 105, 107, 108, 116, 119, 120, 123, 124, 127, 129, 130, 133, 136, 137, 140, 143, 144, 147, 149, 150, 156, 157, 159, 161, 167, 173, 176, 177, 180, 181, 183, 188, 192, 193, 197, 198, 199, 200, 201, 202, 203, 208, 209, 212, 215, 221, 222, 229, 230, 231, 233, 234, 241, 242, 243, 245, 246, 247, 248, 249, 250, 251, 252, 253, 255, 261, 262, 264, 267, 270, 273, 274, 275, 276, 278, 279, 285, 286, 288, 289, 290, 291, 292, 293, 294, 295, 296, 297, 298, 300, 302, 304, 306, 307, 310, 311, 312, 313, 319, 321, 323, 324, 325, 326, 329, 330, 331, 335, 337, 338, 339, 342, 343, 344, 346, 347, 349, 356, 358, 359, 362, 364, 370, 373, 377, 378, 379, 380, 386, 387, 388, 389, 392, 393, 394, 395, 397, 398, 400, 401, 402, 405, 406, 410, 411, 415, 416, 418, 421, 423, 424, 428, 431, 433, 434, 437, 440, 444, 446, 449, 453, 454, 455, 456, 457, 458, 459, 462, 464, 466, 467, 469, 470, 471, 477, 478, 482, 483, 485, 486, 487, 489, 492, 493, 494, 496, 499, 502, 504, 507, 511, 513, 516, 517, 520, 522, 524, 525, 531, 532, 533, 534, 535, 536, 539, 540, 541, 544, 547, 548, 549, 551, 552, 553, 559, 560, 561, 566, 568, 575, 576, 578, 579, 581, 587, 591, 592, 596, 598, 601, 604, 605, 608, 609, 611, 612, 613, 617, 619, 620, 621, 623, 629, 631, 633, 634, 635, 636, 641, 642, 647, 648, 649, 652, 653, 654, 656, 657, 659, 660, 662, 663, 664, 668, 673, 675, 676, 677, 678, 679, 681, 683, 688, 689, 690, 691, 696, 697, 698, 700, 702, 704, 705, 707, 708, 709, 713, 714, 715, 720, 722, 725, 726, 729, 730, 732, 734, 737, 741, 743, 744, 745, 746, 747, 748, 750, 755, 756, 758, 760, 762, 763, 766, 767, 768, 769, 770, 772, 776, 778, 784, 785, 787, 788, 789, 791, 792, 793, 794, 795, 797, 799, 803, 804, 805, 806, 814, 816, 820, 821, 822, 825, 828, 829, 830, 834, 837, 838, 842, 846, 851, 853, 863, 864, 866, 867, 869, 871, 878, 879, 880, 881, 882, 884, 885, 886, 888, 889, 891, 892, 893, 894, 895, 896, 898, 900, 901, 902, 906, 909, 912, 915, 916, 917, 918, 920, 921, 922, 923, 926, 928, 929, 931, 932, 933, 934, 935, 937, 940]\n"
          ]
        }
      ]
    },
    {
      "cell_type": "markdown",
      "source": [
        "- 비음수 행렬 분해를 사용한 하이브리드 추천"
      ],
      "metadata": {
        "id": "wT6h1Sb8xaiT"
      }
    },
    {
      "cell_type": "code",
      "source": [
        "A, B, iter = non_negative_factorization(adj_matrix, n_components=2)"
      ],
      "metadata": {
        "colab": {
          "base_uri": "https://localhost:8080/"
        },
        "id": "NzJjUgakwu8j",
        "outputId": "f99c423f-bc27-4b62-ea2f-fd9e58703580"
      },
      "execution_count": 53,
      "outputs": [
        {
          "output_type": "stream",
          "name": "stderr",
          "text": [
            "/usr/local/lib/python3.7/dist-packages/sklearn/decomposition/_nmf.py:294: FutureWarning: The 'init' value, when 'init=None' and n_components is less than n_samples and n_features, will be changed from 'nndsvd' to 'nndsvda' in 1.1 (renaming of 0.26).\n",
            "  FutureWarning,\n"
          ]
        }
      ]
    },
    {
      "cell_type": "code",
      "source": [
        "C=np.matmul(A,B)\n",
        "A.shape, B.shape, C.shape"
      ],
      "metadata": {
        "colab": {
          "base_uri": "https://localhost:8080/"
        },
        "id": "oMWACxxOx9NH",
        "outputId": "20395a89-ea5c-4355-f7e9-7f7e8cb89e81"
      },
      "execution_count": 54,
      "outputs": [
        {
          "output_type": "execute_result",
          "data": {
            "text/plain": [
              "((943, 2), (2, 1682), (943, 1682))"
            ]
          },
          "metadata": {},
          "execution_count": 54
        }
      ]
    },
    {
      "cell_type": "markdown",
      "source": [
        "- 사용자 기반 추천"
      ],
      "metadata": {
        "id": "XmhQazuWyvy2"
      }
    },
    {
      "cell_type": "code",
      "source": [
        "my_id, my_vector = 0, U[0]\n",
        "best_match, best_match_id, best_match_vector = -1, -1, []\n",
        "\n",
        "for user_id, user_vector in enumerate(U):\n",
        "    if my_id != user_id:\n",
        "        cos_sim = cos_similarity(my_vector, user_vector)\n",
        "        if cos_sim > best_match:\n",
        "            best_match = cos_sim\n",
        "            best_match_id = user_id\n",
        "            best_match_vector = user_vector\n",
        "\n",
        "print(f'Best match: {best_match:.4f}, Best match ID: {best_match_id}')"
      ],
      "metadata": {
        "colab": {
          "base_uri": "https://localhost:8080/"
        },
        "id": "90YjWjouyVhj",
        "outputId": "08104c5c-7455-4d7d-ab1e-54ee3e4d39bb"
      },
      "execution_count": 55,
      "outputs": [
        {
          "output_type": "stream",
          "name": "stdout",
          "text": [
            "Best match: 1.0000, Best match ID: 235\n"
          ]
        }
      ]
    },
    {
      "cell_type": "code",
      "source": [
        "recommend_list = []\n",
        "for i, log in enumerate(zip(adj_matrix[my_id], adj_matrix[best_match_id])):\n",
        "    log1, log2 = log\n",
        "    if log1 < 1. and log2 > 0.:\n",
        "        recommend_list.append(i)\n",
        "\n",
        "print(recommend_list)"
      ],
      "metadata": {
        "colab": {
          "base_uri": "https://localhost:8080/"
        },
        "id": "2ymUsSfHy82p",
        "outputId": "471b6008-0718-4310-8044-8948f503f2e9"
      },
      "execution_count": 56,
      "outputs": [
        {
          "output_type": "stream",
          "name": "stdout",
          "text": [
            "[272, 273, 274, 281, 285, 288, 293, 297, 303, 306, 312, 317, 327, 332, 369, 410, 418, 419, 422, 426, 428, 431, 434, 442, 461, 475, 477, 482, 495, 503, 504, 505, 506, 509, 519, 520, 522, 525, 531, 545, 548, 590, 594, 595, 613, 631, 654, 658, 660, 672, 684, 685, 691, 695, 698, 704, 716, 728, 734, 749, 755, 863, 865, 933, 1012, 1038, 1101, 1327, 1400]\n"
          ]
        }
      ]
    },
    {
      "cell_type": "markdown",
      "source": [
        "- 항목 기반 추천"
      ],
      "metadata": {
        "id": "dOLBMJUSzQAs"
      }
    },
    {
      "cell_type": "code",
      "source": [
        "my_id, my_vector = 0, V.T[0]\n",
        "best_match, best_match_id, best_match_vector = -1, -1, []\n",
        "\n",
        "for user_id, user_vector in enumerate(V.T):\n",
        "    if my_id != user_id:\n",
        "        cos_sim = cos_similarity(my_vector, user_vector)\n",
        "        if cos_sim > best_match:\n",
        "            best_match = cos_sim\n",
        "            best_match_id = user_id\n",
        "            best_match_vector = user_vector\n",
        "\n",
        "print(f'Best match: {best_match:.4f}, Best match ID: {best_match_id}')"
      ],
      "metadata": {
        "colab": {
          "base_uri": "https://localhost:8080/"
        },
        "id": "kwpXJmjUzMnJ",
        "outputId": "712e5fb1-7d43-409c-b695-243e0a7d889e"
      },
      "execution_count": 60,
      "outputs": [
        {
          "output_type": "stream",
          "name": "stdout",
          "text": [
            "Best match: 1.0000, Best match ID: 1287\n"
          ]
        }
      ]
    },
    {
      "cell_type": "code",
      "source": [
        "recommend_list = []\n",
        "for i, user_vector in enumerate(adj_matrix):\n",
        "    if adj_matrix[i, my_id] > 0.9:\n",
        "        recommend_list.append(i)\n",
        "\n",
        "print(recommend_list)"
      ],
      "metadata": {
        "colab": {
          "base_uri": "https://localhost:8080/"
        },
        "id": "Om67RQzBzePJ",
        "outputId": "e6f3a370-c187-4af0-947c-aed22a312d57"
      },
      "execution_count": 61,
      "outputs": [
        {
          "output_type": "stream",
          "name": "stdout",
          "text": [
            "[0, 1, 4, 5, 9, 12, 14, 15, 16, 17, 19, 20, 22, 24, 25, 37, 40, 41, 42, 43, 44, 48, 53, 55, 56, 57, 58, 61, 62, 63, 64, 65, 66, 69, 71, 72, 74, 76, 78, 80, 81, 82, 83, 88, 91, 92, 93, 94, 95, 96, 98, 100, 101, 105, 107, 108, 116, 119, 120, 123, 124, 127, 129, 130, 133, 136, 137, 140, 143, 144, 147, 149, 150, 156, 157, 159, 161, 167, 173, 176, 177, 180, 181, 183, 188, 192, 193, 197, 198, 199, 200, 201, 202, 203, 208, 209, 212, 215, 221, 222, 229, 230, 231, 233, 234, 241, 242, 243, 245, 246, 247, 248, 249, 250, 251, 252, 253, 255, 261, 262, 264, 267, 270, 273, 274, 275, 276, 278, 279, 285, 286, 288, 289, 290, 291, 292, 293, 294, 295, 296, 297, 298, 300, 302, 304, 306, 307, 310, 311, 312, 313, 319, 321, 323, 324, 325, 326, 329, 330, 331, 335, 337, 338, 339, 342, 343, 344, 346, 347, 349, 356, 358, 359, 362, 364, 370, 373, 377, 378, 379, 380, 386, 387, 388, 389, 392, 393, 394, 395, 397, 398, 400, 401, 402, 405, 406, 410, 411, 415, 416, 418, 421, 423, 424, 428, 431, 433, 434, 437, 440, 444, 446, 449, 453, 454, 455, 456, 457, 458, 459, 462, 464, 466, 467, 469, 470, 471, 477, 478, 482, 483, 485, 486, 487, 489, 492, 493, 494, 496, 499, 502, 504, 507, 511, 513, 516, 517, 520, 522, 524, 525, 531, 532, 533, 534, 535, 536, 539, 540, 541, 544, 547, 548, 549, 551, 552, 553, 559, 560, 561, 566, 568, 575, 576, 578, 579, 581, 587, 591, 592, 596, 598, 601, 604, 605, 608, 609, 611, 612, 613, 617, 619, 620, 621, 623, 629, 631, 633, 634, 635, 636, 641, 642, 647, 648, 649, 652, 653, 654, 656, 657, 659, 660, 662, 663, 664, 668, 673, 675, 676, 677, 678, 679, 681, 683, 688, 689, 690, 691, 696, 697, 698, 700, 702, 704, 705, 707, 708, 709, 713, 714, 715, 720, 722, 725, 726, 729, 730, 732, 734, 737, 741, 743, 744, 745, 746, 747, 748, 750, 755, 756, 758, 760, 762, 763, 766, 767, 768, 769, 770, 772, 776, 778, 784, 785, 787, 788, 789, 791, 792, 793, 794, 795, 797, 799, 803, 804, 805, 806, 814, 816, 820, 821, 822, 825, 828, 829, 830, 834, 837, 838, 842, 846, 851, 853, 863, 864, 866, 867, 869, 871, 878, 879, 880, 881, 882, 884, 885, 886, 888, 889, 891, 892, 893, 894, 895, 896, 898, 900, 901, 902, 906, 909, 912, 915, 916, 917, 918, 920, 921, 922, 923, 926, 928, 929, 931, 932, 933, 934, 935, 937, 940]\n"
          ]
        }
      ]
    },
    {
      "cell_type": "code",
      "source": [
        ""
      ],
      "metadata": {
        "id": "nMBNBa9Nz2CR"
      },
      "execution_count": null,
      "outputs": []
    }
  ]
}