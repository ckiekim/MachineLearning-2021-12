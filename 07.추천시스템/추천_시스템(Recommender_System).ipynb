{
  "cells": [
    {
      "cell_type": "markdown",
      "metadata": {
        "id": "oIAnNuuX2EOr"
      },
      "source": [
        "# 추천 시스템 (Recommender Systems)\n",
        "\n",
        "* 추천 시스템은 크게 두가지로 구분 가능\n",
        "  * 컨텐츠 기반 필터링 (content-based filtering)\n",
        "  * 협업 필터링 (collaborative filtering)\n",
        "* 두가지를 조합한 hybrid 방식도 가능\n",
        "* 컨텐츠 기반 필터링은 지금까지 사용자의 이전 행동과 명시적 피드백을 통해 사용자가 좋아하는 것과 유사한 항목을 추천\n",
        "* 협업 필터링은 사용자와 항목간의 유사성을 동시에 사용해 추천"
      ]
    },
    {
      "cell_type": "markdown",
      "metadata": {
        "id": "pKQvtsfX2bRf"
      },
      "source": [
        "## Surprise\n",
        "\n",
        "* 추천 시스템 개발을 위한 라이브러리\n",
        "* 다양한 모델과 데이터 제공\n",
        "* scikit-learn과 유사한 사용 방법"
      ]
    },
    {
      "cell_type": "markdown",
      "metadata": {
        "id": "f8S2mbY13TPl"
      },
      "source": [
        "간단한 surprise 실습"
      ]
    },
    {
      "cell_type": "code",
      "execution_count": 1,
      "metadata": {
        "id": "FXrDk0XH2vbx"
      },
      "outputs": [],
      "source": [
        "from surprise import SVD, Dataset\n",
        "from surprise.model_selection import cross_validate"
      ]
    },
    {
      "cell_type": "code",
      "execution_count": 2,
      "metadata": {},
      "outputs": [
        {
          "data": {
            "text/plain": [
              "[('196', '242', 3.0, '881250949'),\n",
              " ('186', '302', 3.0, '891717742'),\n",
              " ('22', '377', 1.0, '878887116'),\n",
              " ('244', '51', 2.0, '880606923'),\n",
              " ('166', '346', 1.0, '886397596'),\n",
              " ('298', '474', 4.0, '884182806'),\n",
              " ('115', '265', 2.0, '881171488'),\n",
              " ('253', '465', 5.0, '891628467'),\n",
              " ('305', '451', 3.0, '886324817'),\n",
              " ('6', '86', 3.0, '883603013')]"
            ]
          },
          "execution_count": 2,
          "metadata": {},
          "output_type": "execute_result"
        }
      ],
      "source": [
        "data = Dataset.load_builtin('ml-100k', prompt=False)\n",
        "data.raw_ratings[:10]"
      ]
    },
    {
      "cell_type": "code",
      "execution_count": 4,
      "metadata": {
        "id": "IGZjsosZ3jwy"
      },
      "outputs": [
        {
          "data": {
            "text/plain": [
              "(100000, 4)"
            ]
          },
          "execution_count": 4,
          "metadata": {},
          "output_type": "execute_result"
        }
      ],
      "source": [
        "import pandas as pd\n",
        "df = pd.DataFrame(data.raw_ratings, columns=['uid','mid','rating','id'])\n",
        "df.shape"
      ]
    },
    {
      "cell_type": "code",
      "execution_count": 5,
      "metadata": {},
      "outputs": [],
      "source": [
        "model = SVD()       # Singular Value Decomposition"
      ]
    },
    {
      "cell_type": "code",
      "execution_count": 7,
      "metadata": {
        "colab": {
          "base_uri": "https://localhost:8080/",
          "height": 145
        },
        "id": "nAF9VVHt9qz9",
        "outputId": "59e89ec1-7a4f-45ee-f084-e7cb1e94cfea"
      },
      "outputs": [
        {
          "name": "stdout",
          "output_type": "stream",
          "text": [
            "Evaluating RMSE, MAE of algorithm SVD on 5 split(s).\n",
            "\n",
            "                  Fold 1  Fold 2  Fold 3  Fold 4  Fold 5  Mean    Std     \n",
            "RMSE (testset)    0.9386  0.9455  0.9327  0.9378  0.9313  0.9372  0.0050  \n",
            "MAE (testset)     0.7413  0.7456  0.7341  0.7399  0.7316  0.7385  0.0050  \n",
            "Fit time          6.45    6.92    7.47    7.84    6.92    7.12    0.48    \n",
            "Test time         0.20    0.28    0.41    0.20    0.28    0.27    0.08    \n",
            "Wall time: 38.3 s\n"
          ]
        },
        {
          "data": {
            "text/plain": [
              "{'test_rmse': array([0.93856689, 0.94554641, 0.93270293, 0.93779714, 0.93132912]),\n",
              " 'test_mae': array([0.74127728, 0.74559045, 0.73413281, 0.73990652, 0.73160301]),\n",
              " 'fit_time': (6.452168226242065,\n",
              "  6.9198033809661865,\n",
              "  7.468023300170898,\n",
              "  7.836069107055664,\n",
              "  6.918673038482666),\n",
              " 'test_time': (0.19860267639160156,\n",
              "  0.28091931343078613,\n",
              "  0.40836524963378906,\n",
              "  0.1998913288116455,\n",
              "  0.28005456924438477)}"
            ]
          },
          "execution_count": 7,
          "metadata": {},
          "output_type": "execute_result"
        }
      ],
      "source": [
        "%time cross_validate(model, data, measures=['rmse','mae'], cv=5, verbose=True)"
      ]
    },
    {
      "cell_type": "markdown",
      "metadata": {
        "id": "tP5L65zvCRlv"
      },
      "source": [
        "## 컨텐츠 기반 필터링 (Content-based Filtering)\n",
        "\n",
        "* 컨텐츠 기반 필터링은 이전의 행동과 명시적 피드백을 통해 좋아하는 것과 유사한 항목을 추천\n",
        "  * ex) 내가 지금 까지 시청한 영화 목록과 다른 사용자의 시청 목록을 비교해 나와 비슷한 취향의 사용자가 시청한 영화를 추천\n",
        "* 유사도를 기반으로 추천\n",
        "* 컨텐츠 기반 필터링은 다음과 같은 장단점이 있다.\n",
        "  * 장점\n",
        "    * 많은 수의 사용자를 대상으로 쉽게 확장 가능\n",
        "    * 사용자가 관심을 갖지 않던 상품 추천 가능\n",
        "  * 단점\n",
        "    * 입력 특성을 직접 설계해야 하기 때문에 많은 도메인 지식이 필요\n",
        "    * 사용자의 기존 관심사항을 기반으로만 추천 가능"
      ]
    },
    {
      "cell_type": "code",
      "execution_count": 8,
      "metadata": {
        "id": "M81hRKa9-9pK"
      },
      "outputs": [],
      "source": [
        "import numpy as np\n",
        "from surprise import Dataset"
      ]
    },
    {
      "cell_type": "markdown",
      "metadata": {
        "id": "0NyTt1u8LLCP"
      },
      "source": [
        "* 나와 가장 높은 유사도를 가진 사용자의 시청 목록을 추천"
      ]
    },
    {
      "cell_type": "code",
      "execution_count": 10,
      "metadata": {
        "id": "-Y3Y_rNWH-zT"
      },
      "outputs": [
        {
          "data": {
            "text/plain": [
              "array([[      195,       241,         3, 881250949],\n",
              "       [      185,       301,         3, 891717742],\n",
              "       [       21,       376,         1, 878887116],\n",
              "       [      243,        50,         2, 880606923],\n",
              "       [      165,       345,         1, 886397596],\n",
              "       [      297,       473,         4, 884182806],\n",
              "       [      114,       264,         2, 881171488],\n",
              "       [      252,       464,         5, 891628467],\n",
              "       [      304,       450,         3, 886324817],\n",
              "       [        5,        85,         3, 883603013]])"
            ]
          },
          "execution_count": 10,
          "metadata": {},
          "output_type": "execute_result"
        }
      ],
      "source": [
        "data = Dataset.load_builtin('ml-100k', prompt=False)\n",
        "raw_data = np.array(data.raw_ratings, dtype=int)\n",
        "raw_data[:, 0:2] -= 1       # user-id, movie-id를 0부터 시작하게 만듦\n",
        "raw_data[:10]"
      ]
    },
    {
      "cell_type": "code",
      "execution_count": 11,
      "metadata": {
        "id": "z60YDlPOJzSr"
      },
      "outputs": [
        {
          "data": {
            "text/plain": [
              "(943, 1682)"
            ]
          },
          "execution_count": 11,
          "metadata": {},
          "output_type": "execute_result"
        }
      ],
      "source": [
        "n_users = np.max(raw_data[:, 0])\n",
        "n_movies = np.max(raw_data[:, 1])\n",
        "shape = (n_users+1, n_movies+1)\n",
        "shape"
      ]
    },
    {
      "cell_type": "code",
      "execution_count": 17,
      "metadata": {
        "colab": {
          "base_uri": "https://localhost:8080/",
          "height": 145
        },
        "id": "JT6HXk_8I4Zd",
        "outputId": "86fe5ac1-bb15-4822-e7ab-0f1b96fec83d"
      },
      "outputs": [
        {
          "data": {
            "text/plain": [
              "array([[1, 1, 1, ..., 0, 0, 0],\n",
              "       [1, 0, 0, ..., 0, 0, 0],\n",
              "       [0, 0, 0, ..., 0, 0, 0],\n",
              "       [0, 0, 0, ..., 0, 0, 0],\n",
              "       [1, 1, 0, ..., 0, 0, 0]])"
            ]
          },
          "execution_count": 17,
          "metadata": {},
          "output_type": "execute_result"
        }
      ],
      "source": [
        "# 사용자가 본 영화를 표시하는 행렬을 구한다\n",
        "adj_matrix = np.zeros(shape, dtype=int)\n",
        "for user_id, movie_id, _, _ in raw_data:\n",
        "    adj_matrix[user_id, movie_id] = 1\n",
        "adj_matrix[:5]"
      ]
    },
    {
      "cell_type": "markdown",
      "metadata": {},
      "source": [
        "- 이진 벡터의 내적을 통해 다른 사용자들과의 유사도 구하기"
      ]
    },
    {
      "cell_type": "code",
      "execution_count": 18,
      "metadata": {
        "colab": {
          "base_uri": "https://localhost:8080/",
          "height": 35
        },
        "id": "bVShJje-Jn0x",
        "outputId": "c2100d21-4d22-4f06-ee79-a821297f16dc"
      },
      "outputs": [
        {
          "data": {
            "text/plain": [
              "(183, 275)"
            ]
          },
          "execution_count": 18,
          "metadata": {},
          "output_type": "execute_result"
        }
      ],
      "source": [
        "my_id, my_vector = 0, adj_matrix[0]\n",
        "best_match, best_match_id, best_match_vector = -1, -1, []\n",
        "\n",
        "for user_id, user_vector in enumerate(adj_matrix):\n",
        "    if my_id != user_id:\n",
        "        similarity = np.dot(my_vector, user_vector)\n",
        "        if similarity > best_match:\n",
        "            best_match = similarity\n",
        "            best_match_id = user_id\n",
        "            best_match_vector = user_vector\n",
        "\n",
        "best_match, best_match_id"
      ]
    },
    {
      "cell_type": "code",
      "execution_count": 20,
      "metadata": {
        "colab": {
          "base_uri": "https://localhost:8080/",
          "height": 55
        },
        "id": "mRr8UnD7MB7U",
        "outputId": "edf72700-4f7a-4dc7-e972-c430502e2746"
      },
      "outputs": [
        {
          "data": {
            "text/plain": [
              "(335, [272, 273, 275, 280, 281, 283, 287, 288, 289, 290])"
            ]
          },
          "execution_count": 20,
          "metadata": {},
          "output_type": "execute_result"
        }
      ],
      "source": [
        "# 내가 보지 않은 영화중에서 best_match 사용자가 본 영화 \n",
        "recommend_list = []\n",
        "for i, (my_view, best_match_view) in enumerate(zip(my_vector, best_match_vector)):\n",
        "    if my_view == 0 and best_match_view == 1:\n",
        "        recommend_list.append(i)\n",
        "len(recommend_list), recommend_list[:10]"
      ]
    },
    {
      "cell_type": "markdown",
      "metadata": {
        "id": "zR7-LITWZQnJ"
      },
      "source": [
        "* 유클리드 거리를 사용해 추천\n",
        "$$euclidean = \\sqrt{\\sum_{d=1}^{D}(A_i - B_i)^2}$$\n",
        "* 거리가 가까울 수록(값이 작을 수록) 나와 유사한 사용자"
      ]
    },
    {
      "cell_type": "code",
      "execution_count": 22,
      "metadata": {
        "colab": {
          "base_uri": "https://localhost:8080/",
          "height": 35
        },
        "id": "WhbLJGz3NuNA",
        "outputId": "1dc2536f-a794-4a64-f55e-b60b378b48cb"
      },
      "outputs": [
        {
          "data": {
            "text/plain": [
              "(14.832396974191326, 737)"
            ]
          },
          "execution_count": 22,
          "metadata": {},
          "output_type": "execute_result"
        }
      ],
      "source": [
        "my_id, my_vector = 0, adj_matrix[0]\n",
        "best_match, best_match_id, best_match_vector = 9999, -1, []\n",
        "\n",
        "for user_id, user_vector in enumerate(adj_matrix):\n",
        "    if my_id != user_id:\n",
        "        euc_dist = np.sqrt(np.sum(np.square(my_vector - user_vector)))\n",
        "        if euc_dist < best_match:\n",
        "            best_match = euc_dist\n",
        "            best_match_id = user_id\n",
        "            best_match_vector = user_vector\n",
        "\n",
        "best_match, best_match_id"
      ]
    },
    {
      "cell_type": "code",
      "execution_count": 23,
      "metadata": {
        "colab": {
          "base_uri": "https://localhost:8080/",
          "height": 55
        },
        "id": "xbS037xebA76",
        "outputId": "9c60e36f-8ea0-41c3-ac6e-5f1682a0f7a4"
      },
      "outputs": [
        {
          "data": {
            "text/plain": [
              "(48, [297, 312, 317, 342, 356, 366, 379, 384, 392, 402])"
            ]
          },
          "execution_count": 23,
          "metadata": {},
          "output_type": "execute_result"
        }
      ],
      "source": [
        "# 내가 보지 않은 영화중에서 best_match 사용자가 본 영화 \n",
        "recommend_list = []\n",
        "for i, (my_view, best_match_view) in enumerate(zip(my_vector, best_match_vector)):\n",
        "    if my_view == 0 and best_match_view == 1:\n",
        "        recommend_list.append(i)\n",
        "len(recommend_list), recommend_list[:10]"
      ]
    },
    {
      "cell_type": "markdown",
      "metadata": {
        "id": "52c6nfonct7x"
      },
      "source": [
        "* 코사인 유사도를 사용해 추천\n",
        "\n",
        "\\begin{equation}\n",
        "cos \\theta = \\frac{A \\cdot B}{||A|| \\times ||B||}\n",
        "\\end{equation}\n",
        "* 두 벡터가 이루고 있는 각을 계산"
      ]
    },
    {
      "cell_type": "code",
      "execution_count": 24,
      "metadata": {
        "id": "WEJMnmAYejJW"
      },
      "outputs": [],
      "source": [
        "def cos_sim(v1, v2):\n",
        "    norm1 = np.sqrt(np.sum(np.square(v1)))\n",
        "    norm2 = np.sqrt(np.sum(np.square(v2)))\n",
        "    return np.dot(v1, v2) / (norm1 * norm2)"
      ]
    },
    {
      "cell_type": "code",
      "execution_count": 25,
      "metadata": {
        "colab": {
          "base_uri": "https://localhost:8080/",
          "height": 35
        },
        "id": "eouFYlVZb3iT",
        "outputId": "5e4ce214-b5e9-4388-dea2-378ac7af2538"
      },
      "outputs": [
        {
          "data": {
            "text/plain": [
              "(0.5278586163659506, 915)"
            ]
          },
          "execution_count": 25,
          "metadata": {},
          "output_type": "execute_result"
        }
      ],
      "source": [
        "my_id, my_vector = 0, adj_matrix[0]\n",
        "best_match, best_match_id, best_match_vector = -1, -1, []\n",
        "\n",
        "for user_id, user_vector in enumerate(adj_matrix):\n",
        "    if my_id != user_id:\n",
        "        cos_similarity = cos_sim(my_vector, user_vector)\n",
        "        if cos_similarity > best_match:\n",
        "            best_match = cos_similarity\n",
        "            best_match_id = user_id\n",
        "            best_match_vector = user_vector\n",
        "\n",
        "best_match, best_match_id"
      ]
    },
    {
      "cell_type": "code",
      "execution_count": 26,
      "metadata": {
        "colab": {
          "base_uri": "https://localhost:8080/",
          "height": 55
        },
        "id": "HVhjBMure_4D",
        "outputId": "1db906b9-51ba-488c-bd2d-134dbdfa6e97"
      },
      "outputs": [
        {
          "data": {
            "text/plain": [
              "(162, [272, 275, 279, 280, 283, 285, 289, 294, 297, 316])"
            ]
          },
          "execution_count": 26,
          "metadata": {},
          "output_type": "execute_result"
        }
      ],
      "source": [
        "# 내가 보지 않은 영화중에서 best_match 사용자가 본 영화 \n",
        "recommend_list = []\n",
        "for i, (my_view, best_match_view) in enumerate(zip(my_vector, best_match_vector)):\n",
        "    if my_view == 0 and best_match_view >= 1:\n",
        "        recommend_list.append(i)\n",
        "len(recommend_list), recommend_list[:10]"
      ]
    },
    {
      "cell_type": "markdown",
      "metadata": {
        "id": "0dbZPgC4gZYw"
      },
      "source": [
        "기존 방법에 명시적 피드백(사용자가 평가한 영화 점수)을 추가해 실험"
      ]
    },
    {
      "cell_type": "code",
      "execution_count": 28,
      "metadata": {
        "colab": {
          "base_uri": "https://localhost:8080/",
          "height": 145
        },
        "id": "_5udkr1PfGAD",
        "outputId": "8776f6cd-640b-4fdf-bbe8-1aa53e589f08"
      },
      "outputs": [
        {
          "data": {
            "text/plain": [
              "array([[5, 3, 4, ..., 0, 0, 0],\n",
              "       [4, 0, 0, ..., 0, 0, 0],\n",
              "       [0, 0, 0, ..., 0, 0, 0],\n",
              "       [0, 0, 0, ..., 0, 0, 0],\n",
              "       [4, 3, 0, ..., 0, 0, 0]])"
            ]
          },
          "execution_count": 28,
          "metadata": {},
          "output_type": "execute_result"
        }
      ],
      "source": [
        "# 사용자가 본 영화의 평점 행렬을 구한다\n",
        "adj_matrix = np.zeros(shape, dtype=int)\n",
        "for user_id, movie_id, rating, _ in raw_data:\n",
        "    adj_matrix[user_id, movie_id] = rating\n",
        "adj_matrix[:5]"
      ]
    },
    {
      "cell_type": "code",
      "execution_count": 29,
      "metadata": {
        "colab": {
          "base_uri": "https://localhost:8080/",
          "height": 35
        },
        "id": "ApfZVTtGgs41",
        "outputId": "b14f2be8-5f6a-460a-d380-113d5e512b1d"
      },
      "outputs": [
        {
          "data": {
            "text/plain": [
              "(55.06359959174482, 737)"
            ]
          },
          "execution_count": 29,
          "metadata": {},
          "output_type": "execute_result"
        }
      ],
      "source": [
        "# 유클리드 거리\n",
        "my_id, my_vector = 0, adj_matrix[0]\n",
        "best_match, best_match_id, best_match_vector = 9999, -1, []\n",
        "\n",
        "for user_id, user_vector in enumerate(adj_matrix):\n",
        "    if my_id != user_id:\n",
        "        euc_dist = np.sqrt(np.sum(np.square(my_vector - user_vector)))\n",
        "        if euc_dist < best_match:\n",
        "            best_match = euc_dist\n",
        "            best_match_id = user_id\n",
        "            best_match_vector = user_vector\n",
        "\n",
        "best_match, best_match_id"
      ]
    },
    {
      "cell_type": "code",
      "execution_count": null,
      "metadata": {
        "colab": {
          "base_uri": "https://localhost:8080/",
          "height": 35
        },
        "id": "OYTI1nT0hKtz",
        "outputId": "509dc5ca-4c9e-4c47-fdb4-3f6ecd19fbb6"
      },
      "outputs": [
        {
          "name": "stdout",
          "output_type": "stream",
          "text": [
            "Best Match: 0.569065731527988, Best Match ID: 915\n"
          ]
        }
      ],
      "source": [
        "# 코사인 유사도\n",
        "my_id, my_vector = 0, adj_matrix[0]\n",
        "best_match, best_match_id, best_match_vector = -1, -1, []\n",
        "\n",
        "for user_id, user_vector in enumerate(adj_matrix):\n",
        "    if my_id != user_id:\n",
        "        cos_similarity = cos_sim(my_vector, user_vector)\n",
        "        if cos_similarity > best_match:\n",
        "            best_match = cos_similarity\n",
        "            best_match_id = user_id\n",
        "            best_match_vector = user_vector\n",
        "\n",
        "best_match, best_match_id"
      ]
    },
    {
      "cell_type": "markdown",
      "metadata": {
        "id": "HreRrslahd32"
      },
      "source": [
        "## 협업 필터링(Collaborative Filtering)\n",
        "\n",
        "* 사용자와 항목의 유사성을 동시에 고려해 추천\n",
        "* 기존에 내 관심사가 아닌 항목이라도 추천 가능\n",
        "* 자동으로 임베딩 학습 가능\n",
        "* 협업 필터링은 다음과 같은 장단점을 갖고 있다.\n",
        "  * 장점\n",
        "    * 자동으로 임베딩을 학습하기 때문에 도메인 지식이 필요 없다.\n",
        "    * 기존의 관심사가 아니더라도 추천 가능\n",
        "  * 단점\n",
        "    * 학습 과정에 나오지 않은 항목은 임베딩을 만들 수 없음\n",
        "    * 추가 특성을 사용하기 어려움"
      ]
    },
    {
      "cell_type": "code",
      "execution_count": 30,
      "metadata": {
        "id": "BSj5Ex6yhPxq"
      },
      "outputs": [],
      "source": [
        "from surprise import KNNBasic, SVD, SVDpp, NMF\n",
        "from surprise import Dataset\n",
        "from surprise.model_selection import cross_validate"
      ]
    },
    {
      "cell_type": "code",
      "execution_count": 31,
      "metadata": {
        "id": "mWAiO62WkH2U"
      },
      "outputs": [],
      "source": [
        "data = Dataset.load_builtin('ml-100k', prompt=False)"
      ]
    },
    {
      "cell_type": "markdown",
      "metadata": {
        "id": "LKP-UxZkkc8n"
      },
      "source": [
        "* KNN(K-Nearest Neighbor)을 사용한 협업 필터링"
      ]
    },
    {
      "cell_type": "code",
      "execution_count": 32,
      "metadata": {
        "colab": {
          "base_uri": "https://localhost:8080/",
          "height": 145
        },
        "id": "x9LlEDqvkayg",
        "outputId": "df349003-f3b0-43fe-d54d-383f626a11ac"
      },
      "outputs": [
        {
          "name": "stdout",
          "output_type": "stream",
          "text": [
            "Evaluating RMSE, MAE of algorithm KNNBasic on 5 split(s).\n",
            "\n",
            "                  Fold 1  Fold 2  Fold 3  Fold 4  Fold 5  Mean    Std     \n",
            "RMSE (testset)    0.9755  0.9795  0.9775  0.9814  0.9810  0.9790  0.0022  \n",
            "MAE (testset)     0.7709  0.7739  0.7749  0.7739  0.7729  0.7733  0.0014  \n",
            "Fit time          0.99    1.08    1.08    1.11    1.07    1.06    0.04    \n",
            "Test time         6.64    6.46    6.64    6.42    6.43    6.52    0.10    \n",
            "Wall time: 10.8 s\n"
          ]
        },
        {
          "data": {
            "text/plain": [
              "{'test_rmse': array([0.97551365, 0.979529  , 0.97754382, 0.98137088, 0.98104487]),\n",
              " 'test_mae': array([0.77091698, 0.77392485, 0.77492405, 0.7738629 , 0.77285361]),\n",
              " 'fit_time': (0.9919707775115967,\n",
              "  1.0756721496582031,\n",
              "  1.080507516860962,\n",
              "  1.1068511009216309,\n",
              "  1.0686802864074707),\n",
              " 'test_time': (6.639443874359131,\n",
              "  6.464093923568726,\n",
              "  6.638692140579224,\n",
              "  6.417373418807983,\n",
              "  6.433128833770752)}"
            ]
          },
          "execution_count": 32,
          "metadata": {},
          "output_type": "execute_result"
        }
      ],
      "source": [
        "model = KNNBasic()\n",
        "cross_validate(model, data, measures=['rmse','mae'], cv=5, n_jobs=-1, verbose=True)"
      ]
    },
    {
      "cell_type": "markdown",
      "metadata": {
        "id": "QFEFPuSflHew"
      },
      "source": [
        "* SVD(Singular Value Decomposition)를 사용한 협업 필터링"
      ]
    },
    {
      "cell_type": "code",
      "execution_count": 33,
      "metadata": {
        "colab": {
          "base_uri": "https://localhost:8080/",
          "height": 145
        },
        "id": "H6HJ5bKOlHIb",
        "outputId": "cedde428-926d-4aa8-d4f0-5b15391b4de7"
      },
      "outputs": [
        {
          "name": "stdout",
          "output_type": "stream",
          "text": [
            "Evaluating RMSE, MAE of algorithm SVD on 5 split(s).\n",
            "\n",
            "                  Fold 1  Fold 2  Fold 3  Fold 4  Fold 5  Mean    Std     \n",
            "RMSE (testset)    0.9384  0.9355  0.9293  0.9413  0.9357  0.9360  0.0040  \n",
            "MAE (testset)     0.7423  0.7383  0.7328  0.7399  0.7381  0.7383  0.0031  \n",
            "Fit time          10.95   10.88   10.95   10.79   10.82   10.88   0.06    \n",
            "Test time         0.40    0.39    0.39    0.38    0.43    0.40    0.02    \n"
          ]
        },
        {
          "data": {
            "text/plain": [
              "{'test_rmse': array([0.93836791, 0.93545566, 0.92933402, 0.94131684, 0.93568757]),\n",
              " 'test_mae': array([0.74229917, 0.73829655, 0.73284563, 0.73992791, 0.73807113]),\n",
              " 'fit_time': (10.95334506034851,\n",
              "  10.876849889755249,\n",
              "  10.945230722427368,\n",
              "  10.79177451133728,\n",
              "  10.822291612625122),\n",
              " 'test_time': (0.3994007110595703,\n",
              "  0.3941175937652588,\n",
              "  0.38959813117980957,\n",
              "  0.38437342643737793,\n",
              "  0.43326711654663086)}"
            ]
          },
          "execution_count": 33,
          "metadata": {},
          "output_type": "execute_result"
        }
      ],
      "source": [
        "model = SVD()\n",
        "cross_validate(model, data, measures=['rmse','mae'], cv=5, n_jobs=-1, verbose=True)"
      ]
    },
    {
      "cell_type": "markdown",
      "metadata": {
        "id": "MqK8Xgeglkmj"
      },
      "source": [
        "* NMF(Non-negative Matrix Factorization)를 사용한 협업 필터링"
      ]
    },
    {
      "cell_type": "code",
      "execution_count": 34,
      "metadata": {
        "colab": {
          "base_uri": "https://localhost:8080/",
          "height": 145
        },
        "id": "zSwGKHEDkyue",
        "outputId": "eda3fabc-764f-4b46-ecf5-15042b991021"
      },
      "outputs": [
        {
          "name": "stdout",
          "output_type": "stream",
          "text": [
            "Evaluating RMSE, MAE of algorithm NMF on 5 split(s).\n",
            "\n",
            "                  Fold 1  Fold 2  Fold 3  Fold 4  Fold 5  Mean    Std     \n",
            "RMSE (testset)    0.9648  0.9575  0.9627  0.9744  0.9528  0.9625  0.0073  \n",
            "MAE (testset)     0.7587  0.7537  0.7552  0.7642  0.7489  0.7561  0.0051  \n",
            "Fit time          10.59   10.62   10.75   10.81   10.89   10.73   0.11    \n",
            "Test time         0.32    0.35    0.34    0.30    0.28    0.32    0.03    \n"
          ]
        },
        {
          "data": {
            "text/plain": [
              "{'test_rmse': array([0.96483812, 0.95753746, 0.96272712, 0.97444842, 0.95278709]),\n",
              " 'test_mae': array([0.75869207, 0.753654  , 0.75516034, 0.76417015, 0.74892032]),\n",
              " 'fit_time': (10.593607902526855,\n",
              "  10.624523162841797,\n",
              "  10.753577709197998,\n",
              "  10.81222152709961,\n",
              "  10.886921405792236),\n",
              " 'test_time': (0.31989002227783203,\n",
              "  0.3538475036621094,\n",
              "  0.33539581298828125,\n",
              "  0.3011023998260498,\n",
              "  0.277878999710083)}"
            ]
          },
          "execution_count": 34,
          "metadata": {},
          "output_type": "execute_result"
        }
      ],
      "source": [
        "model = NMF()\n",
        "cross_validate(model, data, measures=['rmse','mae'], cv=5, n_jobs=-1, verbose=True)"
      ]
    },
    {
      "cell_type": "markdown",
      "metadata": {
        "id": "odXxXkX0mi_7"
      },
      "source": [
        "* SVD++를 사용한 협업 필터링"
      ]
    },
    {
      "cell_type": "code",
      "execution_count": 35,
      "metadata": {
        "colab": {
          "base_uri": "https://localhost:8080/",
          "height": 145
        },
        "id": "Ck153w1Tlsxa",
        "outputId": "80f4c82f-e5eb-44fd-a419-083af357f899"
      },
      "outputs": [
        {
          "name": "stdout",
          "output_type": "stream",
          "text": [
            "Evaluating RMSE, MAE of algorithm SVDpp on 5 split(s).\n",
            "\n",
            "                  Fold 1  Fold 2  Fold 3  Fold 4  Fold 5  Mean    Std     \n",
            "RMSE (testset)    0.9217  0.9229  0.9092  0.9191  0.9198  0.9186  0.0049  \n",
            "MAE (testset)     0.7256  0.7244  0.7131  0.7180  0.7227  0.7208  0.0046  \n",
            "Fit time          378.98  378.01  377.17  376.15  375.62  377.18  1.22    \n",
            "Test time         4.31    4.74    4.92    4.93    4.88    4.76    0.23    \n"
          ]
        },
        {
          "data": {
            "text/plain": [
              "{'test_rmse': array([0.92171623, 0.92293947, 0.90918642, 0.91914275, 0.91983392]),\n",
              " 'test_mae': array([0.72559001, 0.72444707, 0.71306976, 0.71799834, 0.72272576]),\n",
              " 'fit_time': (378.98021483421326,\n",
              "  378.00732374191284,\n",
              "  377.168568611145,\n",
              "  376.14919328689575,\n",
              "  375.61803245544434),\n",
              " 'test_time': (4.310297727584839,\n",
              "  4.740556955337524,\n",
              "  4.918924808502197,\n",
              "  4.931668043136597,\n",
              "  4.882288455963135)}"
            ]
          },
          "execution_count": 35,
          "metadata": {},
          "output_type": "execute_result"
        }
      ],
      "source": [
        "model = SVDpp()\n",
        "cross_validate(model, data, measures=['rmse','mae'], cv=5, n_jobs=-1, verbose=True)"
      ]
    },
    {
      "cell_type": "markdown",
      "metadata": {
        "id": "hMNwOXpjqeWq"
      },
      "source": [
        "## 하이브리드(Hybrid)\n",
        "\n",
        "* 컨텐츠 기반 필터링과 협업 필터링을 조합한 방식\n",
        "* 많은 하이브리드 방식이 존재\n",
        "* 실습에서는 협업 필터링으로 임베딩을 학습하고 컨텐츠 기반 필터링으로 유사도 기반 추천을 수행하는 추천 엔진 개발"
      ]
    },
    {
      "cell_type": "code",
      "execution_count": 36,
      "metadata": {
        "id": "9mDHmnwFmzwd"
      },
      "outputs": [],
      "source": [
        "import numpy as np\n",
        "from sklearn.decomposition import randomized_svd, non_negative_factorization\n",
        "from surprise import Dataset"
      ]
    },
    {
      "cell_type": "code",
      "execution_count": 37,
      "metadata": {
        "id": "MtEuyQGGMmor"
      },
      "outputs": [
        {
          "data": {
            "text/plain": [
              "array([[      195,       241,         3, 881250949],\n",
              "       [      185,       301,         3, 891717742],\n",
              "       [       21,       376,         1, 878887116],\n",
              "       [      243,        50,         2, 880606923],\n",
              "       [      165,       345,         1, 886397596]])"
            ]
          },
          "execution_count": 37,
          "metadata": {},
          "output_type": "execute_result"
        }
      ],
      "source": [
        "data = Dataset.load_builtin('ml-100k', prompt=False)\n",
        "raw_data = np.array(data.raw_ratings, dtype=int)\n",
        "raw_data[:, 0:2] -= 1       # user-id, movie-id를 0부터 시작하게 만듦\n",
        "raw_data[:5]"
      ]
    },
    {
      "cell_type": "code",
      "execution_count": 38,
      "metadata": {
        "id": "esDSrjm_NshD"
      },
      "outputs": [
        {
          "data": {
            "text/plain": [
              "(943, 1682)"
            ]
          },
          "execution_count": 38,
          "metadata": {},
          "output_type": "execute_result"
        }
      ],
      "source": [
        "n_users = np.max(raw_data[:, 0])\n",
        "n_movies = np.max(raw_data[:, 1])\n",
        "shape = (n_users+1, n_movies+1)\n",
        "shape"
      ]
    },
    {
      "cell_type": "code",
      "execution_count": 39,
      "metadata": {
        "id": "v6lc4h2sNY_7"
      },
      "outputs": [
        {
          "data": {
            "text/plain": [
              "array([[5, 3, 4, ..., 0, 0, 0],\n",
              "       [4, 0, 0, ..., 0, 0, 0],\n",
              "       [0, 0, 0, ..., 0, 0, 0],\n",
              "       [0, 0, 0, ..., 0, 0, 0],\n",
              "       [4, 3, 0, ..., 0, 0, 0]])"
            ]
          },
          "execution_count": 39,
          "metadata": {},
          "output_type": "execute_result"
        }
      ],
      "source": [
        "# 사용자가 본 영화의 평점 행렬을 구한다\n",
        "adj_matrix = np.zeros(shape, dtype=int)\n",
        "for user_id, movie_id, rating, _ in raw_data:\n",
        "    adj_matrix[user_id, movie_id] = rating\n",
        "adj_matrix[:5]"
      ]
    },
    {
      "cell_type": "code",
      "execution_count": 53,
      "metadata": {
        "id": "mpw7bmE-SVon"
      },
      "outputs": [
        {
          "data": {
            "text/plain": [
              "((943, 2), (2, 2), (2, 1682))"
            ]
          },
          "execution_count": 53,
          "metadata": {},
          "output_type": "execute_result"
        }
      ],
      "source": [
        "U, S, V = randomized_svd(adj_matrix, n_components=2)\n",
        "S = np.diag(S)\n",
        "U.shape, S.shape, V.shape"
      ]
    },
    {
      "cell_type": "code",
      "execution_count": 54,
      "metadata": {
        "colab": {
          "base_uri": "https://localhost:8080/",
          "height": 254
        },
        "id": "zBvnhmuhOxDx",
        "outputId": "f06e2aac-3877-4e4b-a7bb-f9a87f75717c"
      },
      "outputs": [
        {
          "name": "stdout",
          "output_type": "stream",
          "text": [
            "(943, 1682)\n"
          ]
        },
        {
          "data": {
            "text/plain": [
              "array([[ 3.91732663e+00,  1.47276644e+00,  7.98261988e-01, ...,\n",
              "         6.24907189e-04,  1.41100852e-02,  1.36545878e-02],\n",
              "       [ 1.85777226e+00,  3.96191175e-01,  5.05705740e-01, ...,\n",
              "         5.38862978e-03,  1.77237914e-03,  5.26968095e-04],\n",
              "       [ 8.94989517e-01,  1.71578497e-01,  2.51738682e-01, ...,\n",
              "         2.92094923e-03,  5.39937171e-04, -1.25733753e-04]])"
            ]
          },
          "execution_count": 54,
          "metadata": {},
          "output_type": "execute_result"
        }
      ],
      "source": [
        "result = np.matmul(np.matmul(U, S), V)\n",
        "print(result.shape)\n",
        "result[:3]"
      ]
    },
    {
      "cell_type": "markdown",
      "metadata": {
        "id": "3pSBMfF7d74E"
      },
      "source": [
        "* 사용자 기반 추천\n",
        "* 나와 비슷한 취향을 가진 다른 사용자의 행동을 추천\n",
        "* 사용자 특징 벡터의 유사도 사용"
      ]
    },
    {
      "cell_type": "code",
      "execution_count": 42,
      "metadata": {},
      "outputs": [],
      "source": [
        "def compute_cos_sim(v1, v2):\n",
        "    norm1 = np.sqrt(np.sum(np.square(v1)))\n",
        "    norm2 = np.sqrt(np.sum(np.square(v2)))\n",
        "    return np.dot(v1, v2) / (norm1 * norm2)"
      ]
    },
    {
      "cell_type": "code",
      "execution_count": 55,
      "metadata": {
        "colab": {
          "base_uri": "https://localhost:8080/",
          "height": 35
        },
        "id": "N6nYexy6cq9V",
        "outputId": "ee3b32b9-3717-4847-955e-0b8c361683c2"
      },
      "outputs": [
        {
          "data": {
            "text/plain": [
              "(0.9999942295956322, 235)"
            ]
          },
          "execution_count": 55,
          "metadata": {},
          "output_type": "execute_result"
        }
      ],
      "source": [
        "my_id, my_vector = 0, U[0]\n",
        "best_match, best_match_id, best_match_vector = -1, -1, []\n",
        "\n",
        "for user_id, user_vector in enumerate(U):\n",
        "    if my_id != user_id:\n",
        "        cos_similarity = compute_cos_sim(my_vector, user_vector)\n",
        "        if cos_similarity > best_match:\n",
        "            best_match = cos_similarity\n",
        "            best_match_id = user_id\n",
        "            best_match_vector = user_vector\n",
        "\n",
        "best_match, best_match_id"
      ]
    },
    {
      "cell_type": "code",
      "execution_count": 56,
      "metadata": {
        "colab": {
          "base_uri": "https://localhost:8080/",
          "height": 55
        },
        "id": "wdISUAEIfoHi",
        "outputId": "4ab44421-ebba-47e4-efc7-761e2bc2ed71"
      },
      "outputs": [
        {
          "data": {
            "text/plain": [
              "(69, [272, 273, 274, 281, 285, 288, 293, 297, 303, 306])"
            ]
          },
          "execution_count": 56,
          "metadata": {},
          "output_type": "execute_result"
        }
      ],
      "source": [
        "recommend_list = []\n",
        "for i, (my_view, best_match_view) in enumerate(zip(adj_matrix[my_id], adj_matrix[best_match_id])):\n",
        "    if my_view == 0 and best_match_view >= 1:\n",
        "        recommend_list.append(i)\n",
        "len(recommend_list), recommend_list[:10]"
      ]
    },
    {
      "cell_type": "markdown",
      "metadata": {
        "id": "0nSD2izbhJix"
      },
      "source": [
        "* 항목 기반 추천\n",
        "* 내가 본 항목과 비슷한 항목을 추천\n",
        "* 항목 특징 벡터의 유사도 사용"
      ]
    },
    {
      "cell_type": "code",
      "execution_count": 57,
      "metadata": {
        "colab": {
          "base_uri": "https://localhost:8080/",
          "height": 35
        },
        "id": "vCLxtkLdgM-s",
        "outputId": "3e8ddd9c-91a7-4e90-84f6-1b7ac81c334a"
      },
      "outputs": [
        {
          "data": {
            "text/plain": [
              "(0.9999999951364141, 1287)"
            ]
          },
          "execution_count": 57,
          "metadata": {},
          "output_type": "execute_result"
        }
      ],
      "source": [
        "my_id, my_vector = 0, V.T[0]\n",
        "best_match, best_match_id, best_match_vector = -1, -1, []\n",
        "\n",
        "for user_id, user_vector in enumerate(V.T):\n",
        "    if my_id != user_id:\n",
        "        cos_similarity = compute_cos_sim(my_vector, user_vector)\n",
        "        if cos_similarity > best_match:\n",
        "            best_match = cos_similarity\n",
        "            best_match_id = user_id\n",
        "            best_match_vector = user_vector\n",
        "\n",
        "best_match, best_match_id"
      ]
    },
    {
      "cell_type": "code",
      "execution_count": 58,
      "metadata": {
        "colab": {
          "base_uri": "https://localhost:8080/",
          "height": 55
        },
        "id": "IZ49Abk7iBeU",
        "outputId": "c72abba8-b668-4226-8f96-102615544e71"
      },
      "outputs": [
        {
          "data": {
            "text/plain": [
              "(452, [0, 1, 4, 5, 9, 12, 14, 15, 16, 17])"
            ]
          },
          "execution_count": 58,
          "metadata": {},
          "output_type": "execute_result"
        }
      ],
      "source": [
        "recommend_list = []\n",
        "for i, _ in enumerate(adj_matrix):\n",
        "    if adj_matrix[i, my_id] >= 1:\n",
        "        recommend_list.append(i)\n",
        "len(recommend_list), recommend_list[:10]"
      ]
    },
    {
      "cell_type": "markdown",
      "metadata": {
        "id": "7uAlUROxj2nA"
      },
      "source": [
        "* 비음수 행렬 분해를 사용한 하이브리드 추천"
      ]
    },
    {
      "cell_type": "code",
      "execution_count": 47,
      "metadata": {
        "colab": {
          "base_uri": "https://localhost:8080/",
          "height": 145
        },
        "id": "Ou2UGuXMTY39",
        "outputId": "dabd8748-bf4e-4fa2-ebfd-f36ae59cb386"
      },
      "outputs": [
        {
          "data": {
            "text/plain": [
              "array([[5, 3, 4, ..., 0, 0, 0],\n",
              "       [4, 0, 0, ..., 0, 0, 0],\n",
              "       [0, 0, 0, ..., 0, 0, 0],\n",
              "       [0, 0, 0, ..., 0, 0, 0],\n",
              "       [4, 3, 0, ..., 0, 0, 0]])"
            ]
          },
          "execution_count": 47,
          "metadata": {},
          "output_type": "execute_result"
        }
      ],
      "source": [
        "adj_matrix[:5]"
      ]
    },
    {
      "cell_type": "code",
      "execution_count": 49,
      "metadata": {
        "colab": {
          "base_uri": "https://localhost:8080/",
          "height": 74
        },
        "id": "yThSdQxDjnsk",
        "outputId": "444aa1f9-65ab-449b-8e2c-274d603a5cff"
      },
      "outputs": [],
      "source": [
        "import warnings\n",
        "warnings.filterwarnings('ignore')\n",
        "A, B, iter = non_negative_factorization(adj_matrix, n_components=2)"
      ]
    },
    {
      "cell_type": "code",
      "execution_count": 50,
      "metadata": {
        "colab": {
          "base_uri": "https://localhost:8080/",
          "height": 254
        },
        "id": "hqtcd6HmkOsA",
        "outputId": "022d88e1-a42a-454f-80f1-209a8ce31ffa"
      },
      "outputs": [
        {
          "name": "stdout",
          "output_type": "stream",
          "text": [
            "(943, 1682)\n"
          ]
        },
        {
          "data": {
            "text/plain": [
              "array([[3.71108858e+00, 1.48454102e+00, 7.39535363e-01, ...,\n",
              "        3.64490531e-03, 1.45506510e-02, 1.44110916e-02],\n",
              "       [2.11724416e+00, 2.37338725e-01, 5.51650703e-01, ...,\n",
              "        4.76092332e-03, 3.03585166e-05, 0.00000000e+00],\n",
              "       [9.85272360e-01, 1.10447010e-01, 2.56713988e-01, ...,\n",
              "        2.21552443e-03, 1.41275191e-05, 0.00000000e+00]])"
            ]
          },
          "execution_count": 50,
          "metadata": {},
          "output_type": "execute_result"
        }
      ],
      "source": [
        "result = np.matmul(A, B)\n",
        "print(result.shape)\n",
        "result[:3]"
      ]
    },
    {
      "cell_type": "markdown",
      "metadata": {
        "id": "6DGX9EtEop4i"
      },
      "source": [
        "* 사용자 기반 추천"
      ]
    },
    {
      "cell_type": "code",
      "execution_count": 60,
      "metadata": {
        "colab": {
          "base_uri": "https://localhost:8080/",
          "height": 35
        },
        "id": "dndXY3Gvm7zs",
        "outputId": "b0e6157c-dffe-47f2-e0e8-045a6d207f7b"
      },
      "outputs": [
        {
          "data": {
            "text/plain": [
              "(0.9999996856299366, 314)"
            ]
          },
          "execution_count": 60,
          "metadata": {},
          "output_type": "execute_result"
        }
      ],
      "source": [
        "my_id, my_vector = 0, A[0]\n",
        "best_match, best_match_id, best_match_vector = -1, -1, []\n",
        "\n",
        "for user_id, user_vector in enumerate(A):\n",
        "    if my_id != user_id:\n",
        "        cos_similarity = compute_cos_sim(my_vector, user_vector)\n",
        "        if cos_similarity > best_match:\n",
        "            best_match = cos_similarity\n",
        "            best_match_id = user_id\n",
        "            best_match_vector = user_vector\n",
        "\n",
        "best_match, best_match_id"
      ]
    },
    {
      "cell_type": "code",
      "execution_count": 61,
      "metadata": {
        "colab": {
          "base_uri": "https://localhost:8080/",
          "height": 55
        },
        "id": "njszNHE_m9MK",
        "outputId": "d70f8e65-8d77-4215-b5e5-4f5b79994b0f"
      },
      "outputs": [
        {
          "data": {
            "text/plain": [
              "(41, [272, 275, 284, 285, 287, 300, 301, 302, 304, 317])"
            ]
          },
          "execution_count": 61,
          "metadata": {},
          "output_type": "execute_result"
        }
      ],
      "source": [
        "recommend_list = []\n",
        "for i, (my_view, best_match_view) in enumerate(zip(adj_matrix[my_id], adj_matrix[best_match_id])):\n",
        "    if my_view == 0 and best_match_view >= 1:\n",
        "        recommend_list.append(i)\n",
        "len(recommend_list), recommend_list[:10]"
      ]
    },
    {
      "cell_type": "markdown",
      "metadata": {
        "id": "F21eqO8dosUE"
      },
      "source": [
        "* 항목 기반 추천"
      ]
    },
    {
      "cell_type": "code",
      "execution_count": 62,
      "metadata": {
        "colab": {
          "base_uri": "https://localhost:8080/",
          "height": 35
        },
        "id": "G8RZo0Mvom4X",
        "outputId": "bac513b3-0c73-454f-e276-c4827c36914f"
      },
      "outputs": [
        {
          "data": {
            "text/plain": [
              "(0.9999999946284729, 255)"
            ]
          },
          "execution_count": 62,
          "metadata": {},
          "output_type": "execute_result"
        }
      ],
      "source": [
        "my_id, my_vector = 0, B.T[0]  # 기준 항목이 0번 이라고 가정\n",
        "best_match, best_match_id, best_match_vector = -1, -1, []\n",
        "\n",
        "for item_id, item_vector in enumerate(B.T):\n",
        "  if my_id != item_id:\n",
        "    cos_similarity = compute_cos_sim(my_vector, item_vector)\n",
        "    if cos_similarity > best_match:\n",
        "      best_match = cos_similarity\n",
        "      best_match_id = item_id\n",
        "      best_match_vector = item_vector\n",
        "\n",
        "best_match, best_match_id"
      ]
    },
    {
      "cell_type": "code",
      "execution_count": 63,
      "metadata": {
        "colab": {
          "base_uri": "https://localhost:8080/",
          "height": 55
        },
        "id": "G_ua-2Lcox8i",
        "outputId": "a1d953df-dd09-4563-f522-8bb9fce8244a"
      },
      "outputs": [
        {
          "data": {
            "text/plain": [
              "(452, [0, 1, 4, 5, 9, 12, 14, 15, 16, 17])"
            ]
          },
          "execution_count": 63,
          "metadata": {},
          "output_type": "execute_result"
        }
      ],
      "source": [
        "recommend_list = []\n",
        "for i, _ in enumerate(adj_matrix):\n",
        "    if adj_matrix[i, my_id] >= 1:\n",
        "        recommend_list.append(i)\n",
        "len(recommend_list), recommend_list[:10]"
      ]
    },
    {
      "cell_type": "code",
      "execution_count": null,
      "metadata": {},
      "outputs": [],
      "source": []
    }
  ],
  "metadata": {
    "colab": {
      "collapsed_sections": [],
      "name": "_13 추천 시스템(Recommender System).ipynb",
      "provenance": [],
      "toc_visible": true
    },
    "kernelspec": {
      "display_name": "Python 3",
      "name": "python3"
    },
    "language_info": {
      "codemirror_mode": {
        "name": "ipython",
        "version": 3
      },
      "file_extension": ".py",
      "mimetype": "text/x-python",
      "name": "python",
      "nbconvert_exporter": "python",
      "pygments_lexer": "ipython3",
      "version": "3.8.8"
    }
  },
  "nbformat": 4,
  "nbformat_minor": 0
}
