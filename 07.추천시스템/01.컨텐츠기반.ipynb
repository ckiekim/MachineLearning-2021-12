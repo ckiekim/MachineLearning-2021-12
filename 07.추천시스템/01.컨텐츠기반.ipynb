{
 "cells": [
  {
   "cell_type": "markdown",
   "metadata": {},
   "source": [
    "# 컨텐츠 기반 필터링(Content-based filtering)"
   ]
  },
  {
   "cell_type": "code",
   "execution_count": 1,
   "metadata": {},
   "outputs": [],
   "source": [
    "import numpy as np\n",
    "import pandas as pd"
   ]
  },
  {
   "cell_type": "code",
   "execution_count": 2,
   "metadata": {},
   "outputs": [
    {
     "data": {
      "text/html": [
       "<div>\n",
       "<style scoped>\n",
       "    .dataframe tbody tr th:only-of-type {\n",
       "        vertical-align: middle;\n",
       "    }\n",
       "\n",
       "    .dataframe tbody tr th {\n",
       "        vertical-align: top;\n",
       "    }\n",
       "\n",
       "    .dataframe thead th {\n",
       "        text-align: right;\n",
       "    }\n",
       "</style>\n",
       "<table border=\"1\" class=\"dataframe\">\n",
       "  <thead>\n",
       "    <tr style=\"text-align: right;\">\n",
       "      <th></th>\n",
       "      <th>user-id</th>\n",
       "      <th>movie-id</th>\n",
       "      <th>rating</th>\n",
       "      <th>timestamp</th>\n",
       "    </tr>\n",
       "  </thead>\n",
       "  <tbody>\n",
       "    <tr>\n",
       "      <th>0</th>\n",
       "      <td>196</td>\n",
       "      <td>242</td>\n",
       "      <td>3.0</td>\n",
       "      <td>881250949</td>\n",
       "    </tr>\n",
       "    <tr>\n",
       "      <th>1</th>\n",
       "      <td>186</td>\n",
       "      <td>302</td>\n",
       "      <td>3.0</td>\n",
       "      <td>891717742</td>\n",
       "    </tr>\n",
       "    <tr>\n",
       "      <th>2</th>\n",
       "      <td>22</td>\n",
       "      <td>377</td>\n",
       "      <td>1.0</td>\n",
       "      <td>878887116</td>\n",
       "    </tr>\n",
       "    <tr>\n",
       "      <th>3</th>\n",
       "      <td>244</td>\n",
       "      <td>51</td>\n",
       "      <td>2.0</td>\n",
       "      <td>880606923</td>\n",
       "    </tr>\n",
       "    <tr>\n",
       "      <th>4</th>\n",
       "      <td>166</td>\n",
       "      <td>346</td>\n",
       "      <td>1.0</td>\n",
       "      <td>886397596</td>\n",
       "    </tr>\n",
       "  </tbody>\n",
       "</table>\n",
       "</div>"
      ],
      "text/plain": [
       "  user-id movie-id  rating  timestamp\n",
       "0     196      242     3.0  881250949\n",
       "1     186      302     3.0  891717742\n",
       "2      22      377     1.0  878887116\n",
       "3     244       51     2.0  880606923\n",
       "4     166      346     1.0  886397596"
      ]
     },
     "execution_count": 2,
     "metadata": {},
     "output_type": "execute_result"
    }
   ],
   "source": [
    "from surprise import Dataset\n",
    "data = Dataset.load_builtin('ml-100k', prompt=False)\n",
    "df = pd.DataFrame(data.raw_ratings, columns=['user-id','movie-id','rating','timestamp'])\n",
    "df.head()"
   ]
  },
  {
   "cell_type": "code",
   "execution_count": 3,
   "metadata": {},
   "outputs": [
    {
     "data": {
      "text/plain": [
       "(100000, 4)"
      ]
     },
     "execution_count": 3,
     "metadata": {},
     "output_type": "execute_result"
    }
   ],
   "source": [
    "df.shape"
   ]
  },
  {
   "cell_type": "markdown",
   "metadata": {},
   "source": [
    "### 1. Adjacent Matrix 생성\n",
    "- 행은 사용자\n",
    "- 열은 영화\n",
    "- 내용은 평점"
   ]
  },
  {
   "cell_type": "code",
   "execution_count": 4,
   "metadata": {},
   "outputs": [
    {
     "data": {
      "text/plain": [
       "array([[      195,       241,         3, 881250949],\n",
       "       [      185,       301,         3, 891717742],\n",
       "       [       21,       376,         1, 878887116],\n",
       "       [      243,        50,         2, 880606923],\n",
       "       [      165,       345,         1, 886397596]])"
      ]
     },
     "execution_count": 4,
     "metadata": {},
     "output_type": "execute_result"
    }
   ],
   "source": [
    "raw_data = np.array(data.raw_ratings, dtype=int)\n",
    "raw_data[:, :2] -= 1        # user-id, movie-id가 0부터 시작하도록\n",
    "raw_data[:5]"
   ]
  },
  {
   "cell_type": "code",
   "execution_count": 10,
   "metadata": {},
   "outputs": [
    {
     "data": {
      "text/plain": [
       "(943, 1682)"
      ]
     },
     "execution_count": 10,
     "metadata": {},
     "output_type": "execute_result"
    }
   ],
   "source": [
    "n_users = df['user-id'].nunique()\n",
    "n_movies = df['movie-id'].astype(int).max()\n",
    "n_users, n_movies"
   ]
  },
  {
   "cell_type": "markdown",
   "metadata": {},
   "source": [
    "#### 1-1. adj_matrix: 0/1, 평점점수를 주는 경우"
   ]
  },
  {
   "cell_type": "code",
   "execution_count": 11,
   "metadata": {},
   "outputs": [
    {
     "data": {
      "text/plain": [
       "array([[1, 1, 1, ..., 0, 0, 0],\n",
       "       [1, 0, 0, ..., 0, 0, 0],\n",
       "       [0, 0, 0, ..., 0, 0, 0],\n",
       "       [0, 0, 0, ..., 0, 0, 0],\n",
       "       [1, 1, 0, ..., 0, 0, 0]])"
      ]
     },
     "execution_count": 11,
     "metadata": {},
     "output_type": "execute_result"
    }
   ],
   "source": [
    "# 본 영화는 1, 안본 영화는 0\n",
    "adj_matrix = np.zeros((n_users, n_movies), int)\n",
    "for user_id, movie_id, _, _ in raw_data:\n",
    "    adj_matrix[user_id, movie_id] = 1\n",
    "adj_matrix[:5]"
   ]
  },
  {
   "cell_type": "code",
   "execution_count": 12,
   "metadata": {},
   "outputs": [
    {
     "data": {
      "text/plain": [
       "(18, 8)"
      ]
     },
     "execution_count": 12,
     "metadata": {},
     "output_type": "execute_result"
    }
   ],
   "source": [
    "# 유사도 - 이진 벡터의 내적\n",
    "my_id, my_vector = 0, adj_matrix[0]\n",
    "\n",
    "np.dot(my_vector, adj_matrix[1]), np.dot(my_vector, adj_matrix[2])"
   ]
  },
  {
   "cell_type": "code",
   "execution_count": 14,
   "metadata": {},
   "outputs": [
    {
     "data": {
      "text/plain": [
       "(183, 275)"
      ]
     },
     "execution_count": 14,
     "metadata": {},
     "output_type": "execute_result"
    }
   ],
   "source": [
    "# 누가 나(user-id가 0)랑 가장 닮았나?\n",
    "best_score, best_match_id = 0, 0\n",
    "\n",
    "for i in range(1,len(adj_matrix)):\n",
    "    dot = np.dot(my_vector, adj_matrix[i])\n",
    "    if dot > best_score:\n",
    "        best_score = dot\n",
    "        best_match_id = i\n",
    "\n",
    "best_score, best_match_id"
   ]
  },
  {
   "cell_type": "code",
   "execution_count": 19,
   "metadata": {},
   "outputs": [
    {
     "data": {
      "text/plain": [
       "(array([0, 0, 0, 0, 0, 0, 0, 0, 0, 0]), array([0, 0, 1, 0, 1, 1, 1, 1, 0, 0]))"
      ]
     },
     "execution_count": 19,
     "metadata": {},
     "output_type": "execute_result"
    }
   ],
   "source": [
    "best_vector = adj_matrix[best_match_id]\n",
    "my_vector[310:320], best_vector[310:320]"
   ]
  },
  {
   "cell_type": "code",
   "execution_count": 20,
   "metadata": {},
   "outputs": [
    {
     "data": {
      "text/plain": [
       "(335, [272, 273, 275, 280, 281, 283, 287, 288, 289, 290])"
      ]
     },
     "execution_count": 20,
     "metadata": {},
     "output_type": "execute_result"
    }
   ],
   "source": [
    "# 내가 보지 않은 영화중에서 best_match 사용자가 본 영화 - 추천\n",
    "recommend_list = []\n",
    "for i, (my_view, best_match_view) in enumerate(zip(my_vector, best_vector)):\n",
    "    if my_view == 0 and best_match_view >= 1:\n",
    "        recommend_list.append(i)\n",
    "\n",
    "len(recommend_list), recommend_list[:10]"
   ]
  },
  {
   "cell_type": "markdown",
   "metadata": {},
   "source": [
    "#### 1-2. adj_matrix: 평점 점수를 주는 경우"
   ]
  },
  {
   "cell_type": "code",
   "execution_count": 21,
   "metadata": {},
   "outputs": [
    {
     "data": {
      "text/plain": [
       "array([[5, 3, 4, ..., 0, 0, 0],\n",
       "       [4, 0, 0, ..., 0, 0, 0],\n",
       "       [0, 0, 0, ..., 0, 0, 0],\n",
       "       [0, 0, 0, ..., 0, 0, 0],\n",
       "       [4, 3, 0, ..., 0, 0, 0]])"
      ]
     },
     "execution_count": 21,
     "metadata": {},
     "output_type": "execute_result"
    }
   ],
   "source": [
    "adj_matrix = np.zeros((n_users, n_movies), int)\n",
    "for user_id, movie_id, rating, _ in raw_data:\n",
    "    adj_matrix[user_id, movie_id] = rating\n",
    "adj_matrix[:5]"
   ]
  },
  {
   "cell_type": "markdown",
   "metadata": {},
   "source": [
    "##### 1-2-1. Case 1) 유클리드 거리"
   ]
  },
  {
   "cell_type": "code",
   "execution_count": 23,
   "metadata": {},
   "outputs": [
    {
     "data": {
      "text/plain": [
       "(55.06359959174482, 737)"
      ]
     },
     "execution_count": 23,
     "metadata": {},
     "output_type": "execute_result"
    }
   ],
   "source": [
    "# 누가 나(user-id가 0)랑 가장 닮았나? - 유클리드 거리\n",
    "best_score, best_match_id = 100000, 0\n",
    "my_vector = adj_matrix[0]\n",
    "\n",
    "for i in range(1,len(adj_matrix)):\n",
    "    user_vector = adj_matrix[i]\n",
    "    euc_dist = np.sqrt(np.sum(np.square(my_vector - user_vector)))\n",
    "    if euc_dist < best_score:\n",
    "        best_score = euc_dist\n",
    "        best_match_id = i\n",
    "\n",
    "best_score, best_match_id"
   ]
  },
  {
   "cell_type": "code",
   "execution_count": 24,
   "metadata": {},
   "outputs": [
    {
     "data": {
      "text/plain": [
       "(48, [297, 312, 317, 342, 356, 366, 379, 384, 392, 402])"
      ]
     },
     "execution_count": 24,
     "metadata": {},
     "output_type": "execute_result"
    }
   ],
   "source": [
    "# 내가 보지 않은 영화중에서 best_match 사용자가 본 영화 - 추천\n",
    "recommend_list = []\n",
    "best_vector = adj_matrix[best_match_id]\n",
    "\n",
    "for i, (my_view, best_match_view) in enumerate(zip(my_vector, best_vector)):\n",
    "    if my_view == 0 and best_match_view >= 1:\n",
    "        recommend_list.append(i)\n",
    "\n",
    "len(recommend_list), recommend_list[:10]"
   ]
  },
  {
   "cell_type": "markdown",
   "metadata": {},
   "source": [
    "##### 1-2-2. Case 2) 코사인 유사도"
   ]
  },
  {
   "cell_type": "code",
   "execution_count": 25,
   "metadata": {},
   "outputs": [],
   "source": [
    "def compute_cos_sim(v1, v2):\n",
    "    norm1 = np.sqrt(np.sum(np.square(v1)))\n",
    "    norm2 = np.sqrt(np.sum(np.square(v2)))\n",
    "    return np.dot(v1, v2) / (norm1 * norm2)"
   ]
  },
  {
   "cell_type": "code",
   "execution_count": 26,
   "metadata": {},
   "outputs": [
    {
     "data": {
      "text/plain": [
       "(0.569065731527988, 915)"
      ]
     },
     "execution_count": 26,
     "metadata": {},
     "output_type": "execute_result"
    }
   ],
   "source": [
    "# 누가 나(user-id가 0)랑 가장 닮았나? - 코사인 유사도\n",
    "best_score, best_match_id = -1, 0\n",
    "my_vector = adj_matrix[0]\n",
    "\n",
    "for i in range(1,len(adj_matrix)):\n",
    "    user_vector = adj_matrix[i]\n",
    "    cos_sim = compute_cos_sim(my_vector, user_vector)\n",
    "    if cos_sim > best_score:\n",
    "        best_score = cos_sim\n",
    "        best_match_id = i\n",
    "\n",
    "best_score, best_match_id"
   ]
  },
  {
   "cell_type": "code",
   "execution_count": 27,
   "metadata": {},
   "outputs": [
    {
     "data": {
      "text/plain": [
       "(162, [272, 275, 279, 280, 283, 285, 289, 294, 297, 316])"
      ]
     },
     "execution_count": 27,
     "metadata": {},
     "output_type": "execute_result"
    }
   ],
   "source": [
    "# 내가 보지 않은 영화중에서 best_match 사용자가 본 영화 - 추천\n",
    "recommend_list = []\n",
    "best_vector = adj_matrix[best_match_id]\n",
    "\n",
    "for i, (my_view, best_match_view) in enumerate(zip(my_vector, best_vector)):\n",
    "    if my_view == 0 and best_match_view >= 1:\n",
    "        recommend_list.append(i)\n",
    "\n",
    "len(recommend_list), recommend_list[:10]"
   ]
  },
  {
   "cell_type": "code",
   "execution_count": null,
   "metadata": {},
   "outputs": [],
   "source": []
  }
 ],
 "metadata": {
  "interpreter": {
   "hash": "b3ba2566441a7c06988d0923437866b63cedc61552a5af99d1f4fb67d367b25f"
  },
  "kernelspec": {
   "display_name": "Python 3.8.8 64-bit ('base': conda)",
   "language": "python",
   "name": "python3"
  },
  "language_info": {
   "codemirror_mode": {
    "name": "ipython",
    "version": 3
   },
   "file_extension": ".py",
   "mimetype": "text/x-python",
   "name": "python",
   "nbconvert_exporter": "python",
   "pygments_lexer": "ipython3",
   "version": "3.8.8"
  },
  "orig_nbformat": 4
 },
 "nbformat": 4,
 "nbformat_minor": 2
}
