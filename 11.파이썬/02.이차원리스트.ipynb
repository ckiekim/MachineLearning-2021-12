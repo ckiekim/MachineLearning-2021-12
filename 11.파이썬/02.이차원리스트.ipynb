{
 "cells": [
  {
   "cell_type": "markdown",
   "metadata": {},
   "source": [
    "# 2차원 리스트"
   ]
  },
  {
   "cell_type": "code",
   "execution_count": 1,
   "metadata": {},
   "outputs": [
    {
     "data": {
      "text/plain": [
       "[[10, 20], [30, 40], [50, 60]]"
      ]
     },
     "execution_count": 1,
     "metadata": {},
     "output_type": "execute_result"
    }
   ],
   "source": [
    "a = [[10,20],[30,40],[50,60]]\n",
    "a"
   ]
  },
  {
   "cell_type": "code",
   "execution_count": 2,
   "metadata": {},
   "outputs": [
    {
     "data": {
      "text/plain": [
       "3"
      ]
     },
     "execution_count": 2,
     "metadata": {},
     "output_type": "execute_result"
    }
   ],
   "source": [
    "len(a)"
   ]
  },
  {
   "cell_type": "code",
   "execution_count": 3,
   "metadata": {},
   "outputs": [
    {
     "data": {
      "text/plain": [
       "2"
      ]
     },
     "execution_count": 3,
     "metadata": {},
     "output_type": "execute_result"
    }
   ],
   "source": [
    "len(a[0])"
   ]
  },
  {
   "cell_type": "code",
   "execution_count": 5,
   "metadata": {},
   "outputs": [
    {
     "data": {
      "text/plain": [
       "[[10, 20], [30, 40], [50, 60]]"
      ]
     },
     "execution_count": 5,
     "metadata": {},
     "output_type": "execute_result"
    }
   ],
   "source": [
    "import numpy as np\n",
    "b = np.arange(1,7).reshape(3,2) * 10\n",
    "b.tolist()"
   ]
  },
  {
   "cell_type": "markdown",
   "metadata": {},
   "source": [
    "- 2차원 리스트와 반복문"
   ]
  },
  {
   "cell_type": "code",
   "execution_count": 6,
   "metadata": {},
   "outputs": [
    {
     "name": "stdout",
     "output_type": "stream",
     "text": [
      "[10, 20]\n",
      "[30, 40]\n",
      "[50, 60]\n"
     ]
    }
   ],
   "source": [
    "for row in a:\n",
    "    print(row)"
   ]
  },
  {
   "cell_type": "code",
   "execution_count": 7,
   "metadata": {},
   "outputs": [
    {
     "name": "stdout",
     "output_type": "stream",
     "text": [
      "10 20 \n",
      "30 40 \n",
      "50 60 \n"
     ]
    }
   ],
   "source": [
    "for row in a:\n",
    "    for element in row:\n",
    "        print(element, end=' ')\n",
    "    print()"
   ]
  },
  {
   "cell_type": "markdown",
   "metadata": {},
   "source": [
    "- 반복문으로 2차원 리스트 만들기"
   ]
  },
  {
   "cell_type": "code",
   "execution_count": 11,
   "metadata": {},
   "outputs": [
    {
     "data": {
      "text/plain": [
       "[0, 1, 2, 3, 4]"
      ]
     },
     "execution_count": 11,
     "metadata": {},
     "output_type": "execute_result"
    }
   ],
   "source": [
    "# 1차원\n",
    "num_list = []\n",
    "for i in range(5):\n",
    "    num_list.append(i)\n",
    "num_list"
   ]
  },
  {
   "cell_type": "code",
   "execution_count": 14,
   "metadata": {},
   "outputs": [
    {
     "data": {
      "text/plain": [
       "[[10, 11, 12, 13, 14],\n",
       " [20, 21, 22, 23, 24],\n",
       " [30, 31, 32, 33, 34],\n",
       " [40, 41, 42, 43, 44]]"
      ]
     },
     "execution_count": 14,
     "metadata": {},
     "output_type": "execute_result"
    }
   ],
   "source": [
    "# 2차원\n",
    "dim2_list = []\n",
    "for i in range(10,50,10):\n",
    "    line = []\n",
    "    for k in range(5):\n",
    "        line.append(i+k)\n",
    "    dim2_list.append(line)\n",
    "    \n",
    "dim2_list"
   ]
  },
  {
   "cell_type": "markdown",
   "metadata": {},
   "source": [
    "- 지뢰찾기"
   ]
  },
  {
   "cell_type": "code",
   "execution_count": 29,
   "metadata": {},
   "outputs": [
    {
     "data": {
      "text/plain": [
       "[['*', '.', '*', '*', '*', '.'],\n",
       " ['*', '.', '.', '.', '*', '.'],\n",
       " ['.', '*', '.', '.', '.', '.'],\n",
       " ['.', '.', '.', '.', '.', '*'],\n",
       " ['.', '.', '.', '*', '*', '*'],\n",
       " ['.', '.', '.', '*', '.', '*']]"
      ]
     },
     "execution_count": 29,
     "metadata": {},
     "output_type": "execute_result"
    }
   ],
   "source": [
    "import random\n",
    "N = 6\n",
    "mines = [['*' if random.random() > 0.7 else '.' for _ in range(N)] for _ in range(N)]\n",
    "mines"
   ]
  },
  {
   "cell_type": "code",
   "execution_count": 18,
   "metadata": {},
   "outputs": [],
   "source": [
    "def print_mines(mat):\n",
    "    for row in mat:\n",
    "        for element in row:\n",
    "            print(element, end=' ')\n",
    "        print()"
   ]
  },
  {
   "cell_type": "code",
   "execution_count": 30,
   "metadata": {},
   "outputs": [
    {
     "name": "stdout",
     "output_type": "stream",
     "text": [
      "* . * * * . \n",
      "* . . . * . \n",
      ". * . . . . \n",
      ". . . . . * \n",
      ". . . * * * \n",
      ". . . * . * \n"
     ]
    }
   ],
   "source": [
    "print_mines(mines)"
   ]
  },
  {
   "cell_type": "code",
   "execution_count": 31,
   "metadata": {},
   "outputs": [
    {
     "name": "stdout",
     "output_type": "stream",
     "text": [
      ". . . . . . . . \n",
      ". * . * * * . . \n",
      ". * . . . * . . \n",
      ". . * . . . . . \n",
      ". . . . . . * . \n",
      ". . . . * * * . \n",
      ". . . . * . * . \n",
      ". . . . . . . . \n"
     ]
    }
   ],
   "source": [
    "# padding 된 mines --> pad_mines\n",
    "pad_mines = ['.' * (N+2)]\n",
    "for row in mines:\n",
    "    line = '.'\n",
    "    for element in row:\n",
    "        line += element\n",
    "    line += '.'\n",
    "    pad_mines.append(line)\n",
    "pad_mines.append('.' * (N+2))\n",
    "print_mines(pad_mines)"
   ]
  },
  {
   "cell_type": "code",
   "execution_count": 32,
   "metadata": {},
   "outputs": [
    {
     "name": "stdout",
     "output_type": "stream",
     "text": [
      "* 3 * * * 2 \n",
      "* 4 3 4 * 2 \n",
      "2 * 1 1 2 2 \n",
      "1 1 2 2 4 * \n",
      "0 0 2 * * * \n",
      "0 0 2 * 5 * \n"
     ]
    }
   ],
   "source": [
    "final_mines = []\n",
    "for i in range(1,N+1):\n",
    "    row = ''\n",
    "    for k in range(1,N+1):\n",
    "        if pad_mines[i][k] == '*':\n",
    "            row += '*'\n",
    "        else:\n",
    "            count = (pad_mines[i-1][k-1]=='*') + (pad_mines[i-1][k]=='*') + (pad_mines[i-1][k+1]=='*') + \\\n",
    "                    (pad_mines[i][k-1]=='*') +                            + (pad_mines[i][k+1]=='*') + \\\n",
    "                    (pad_mines[i+1][k-1]=='*') + (pad_mines[i+1][k]=='*') + (pad_mines[i+1][k+1]=='*')\n",
    "            row += str(count)\n",
    "    final_mines.append(row)\n",
    "    \n",
    "print_mines(final_mines)"
   ]
  },
  {
   "cell_type": "code",
   "execution_count": 33,
   "metadata": {},
   "outputs": [
    {
     "name": "stdout",
     "output_type": "stream",
     "text": [
      ". . . . . . . . \n",
      ". * . * * * . . \n",
      ". * . . . * . . \n",
      ". . * . . . . . \n",
      ". . . . . . * . \n",
      ". . . . * * * . \n",
      ". . . . * . * . \n",
      ". . . . . . . . \n"
     ]
    }
   ],
   "source": [
    "# padding 된 mines --> pad_mines\n",
    "pad_line = ['.' for _ in range(N+2)]\n",
    "pad_mines = [pad_line]\n",
    "for row in mines:\n",
    "    line = ['.']\n",
    "    for element in row:\n",
    "        line.append(element)\n",
    "    line.append('.')\n",
    "    pad_mines.append(line)\n",
    "pad_mines.append(pad_line)\n",
    "print_mines(pad_mines)"
   ]
  },
  {
   "cell_type": "code",
   "execution_count": 34,
   "metadata": {},
   "outputs": [
    {
     "name": "stdout",
     "output_type": "stream",
     "text": [
      "* 3 * * * 2 \n",
      "* 4 3 4 * 2 \n",
      "2 * 1 1 2 2 \n",
      "1 1 2 2 4 * \n",
      "0 0 2 * * * \n",
      "0 0 2 * 5 * \n"
     ]
    }
   ],
   "source": [
    "final_mines = []\n",
    "for i in range(1,N+1):\n",
    "    row = []\n",
    "    for k in range(1,N+1):\n",
    "        if pad_mines[i][k] == '*':\n",
    "            row.append('*')\n",
    "        else:\n",
    "            count = (pad_mines[i-1][k-1]=='*') + (pad_mines[i-1][k]=='*') + (pad_mines[i-1][k+1]=='*') + \\\n",
    "                    (pad_mines[i][k-1]=='*') +                            + (pad_mines[i][k+1]=='*') + \\\n",
    "                    (pad_mines[i+1][k-1]=='*') + (pad_mines[i+1][k]=='*') + (pad_mines[i+1][k+1]=='*')\n",
    "            row .append(str(count))\n",
    "    final_mines.append(row)\n",
    "    \n",
    "print_mines(final_mines)"
   ]
  },
  {
   "cell_type": "code",
   "execution_count": null,
   "metadata": {},
   "outputs": [],
   "source": []
  }
 ],
 "metadata": {
  "interpreter": {
   "hash": "5a1baeb1610b05443f415525bf52a486212d0ee94c2d320214bf0d7d56e225dd"
  },
  "kernelspec": {
   "display_name": "Python 3.7.7 64-bit ('vsc': conda)",
   "language": "python",
   "name": "python3"
  },
  "language_info": {
   "codemirror_mode": {
    "name": "ipython",
    "version": 3
   },
   "file_extension": ".py",
   "mimetype": "text/x-python",
   "name": "python",
   "nbconvert_exporter": "python",
   "pygments_lexer": "ipython3",
   "version": "3.7.7"
  },
  "orig_nbformat": 4
 },
 "nbformat": 4,
 "nbformat_minor": 2
}
